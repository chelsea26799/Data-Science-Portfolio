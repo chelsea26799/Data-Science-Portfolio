{
 "cells": [
  {
   "cell_type": "code",
   "execution_count": 1,
   "id": "2de84dee",
   "metadata": {},
   "outputs": [],
   "source": [
    "import pandas as pd\n",
    "import re\n",
    "import nltk"
   ]
  },
  {
   "cell_type": "code",
   "execution_count": 10,
   "id": "bd505c0e",
   "metadata": {},
   "outputs": [],
   "source": [
    "from sklearn.feature_extraction.text import TfidfVectorizer\n",
    "from sklearn.model_selection import train_test_split\n",
    "from sklearn.linear_model import LogisticRegression\n",
    "from sklearn.metrics import accuracy_score, precision_score, recall_score, f1_score"
   ]
  },
  {
   "cell_type": "code",
   "execution_count": 2,
   "id": "5d25b402",
   "metadata": {},
   "outputs": [
    {
     "name": "stderr",
     "output_type": "stream",
     "text": [
      "[nltk_data] Downloading package stopwords to\n",
      "[nltk_data]     C:\\Users\\chels\\AppData\\Roaming\\nltk_data...\n",
      "[nltk_data]   Package stopwords is already up-to-date!\n"
     ]
    }
   ],
   "source": [
    "nltk.download('stopwords')\n",
    "from nltk.corpus import stopwords"
   ]
  },
  {
   "cell_type": "code",
   "execution_count": 3,
   "id": "e7a150b5",
   "metadata": {},
   "outputs": [],
   "source": [
    "from nltk.sentiment.vader import SentimentIntensityAnalyzer"
   ]
  },
  {
   "cell_type": "code",
   "execution_count": 11,
   "id": "bead5d83",
   "metadata": {},
   "outputs": [
    {
     "data": {
      "text/html": [
       "<div>\n",
       "<style scoped>\n",
       "    .dataframe tbody tr th:only-of-type {\n",
       "        vertical-align: middle;\n",
       "    }\n",
       "\n",
       "    .dataframe tbody tr th {\n",
       "        vertical-align: top;\n",
       "    }\n",
       "\n",
       "    .dataframe thead th {\n",
       "        text-align: right;\n",
       "    }\n",
       "</style>\n",
       "<table border=\"1\" class=\"dataframe\">\n",
       "  <thead>\n",
       "    <tr style=\"text-align: right;\">\n",
       "      <th></th>\n",
       "      <th>Ticket satisfaction comment</th>\n",
       "      <th>Ticket satisfaction rating</th>\n",
       "    </tr>\n",
       "  </thead>\n",
       "  <tbody>\n",
       "    <tr>\n",
       "      <th>0</th>\n",
       "      <td>amazing I found just what I was looking for</td>\n",
       "      <td>Good</td>\n",
       "    </tr>\n",
       "    <tr>\n",
       "      <th>1</th>\n",
       "      <td>best customer service ever!</td>\n",
       "      <td>Good</td>\n",
       "    </tr>\n",
       "    <tr>\n",
       "      <th>2</th>\n",
       "      <td>Best retail experience I’ve had in ages! \\r\\n...</td>\n",
       "      <td>Good</td>\n",
       "    </tr>\n",
       "    <tr>\n",
       "      <th>3</th>\n",
       "      <td>Called buckle first thing in the morning.. on...</td>\n",
       "      <td>Bad</td>\n",
       "    </tr>\n",
       "    <tr>\n",
       "      <th>4</th>\n",
       "      <td>Customer service is great</td>\n",
       "      <td>Good</td>\n",
       "    </tr>\n",
       "  </tbody>\n",
       "</table>\n",
       "</div>"
      ],
      "text/plain": [
       "                         Ticket satisfaction comment  \\\n",
       "0       amazing I found just what I was looking for    \n",
       "1                       best customer service ever!    \n",
       "2   Best retail experience I’ve had in ages! \\r\\n...   \n",
       "3   Called buckle first thing in the morning.. on...   \n",
       "4                          Customer service is great   \n",
       "\n",
       "  Ticket satisfaction rating  \n",
       "0                       Good  \n",
       "1                       Good  \n",
       "2                       Good  \n",
       "3                        Bad  \n",
       "4                       Good  "
      ]
     },
     "execution_count": 11,
     "metadata": {},
     "output_type": "execute_result"
    }
   ],
   "source": [
    "df = pd.read_csv(\"satisfaction_review.csv\")\n",
    "df.head()"
   ]
  },
  {
   "cell_type": "code",
   "execution_count": 12,
   "id": "fc8985eb",
   "metadata": {},
   "outputs": [],
   "source": [
    "# drop na values to get rid of type error\n",
    "\n",
    "df = df.dropna()"
   ]
  },
  {
   "cell_type": "code",
   "execution_count": 13,
   "id": "b8a682a1",
   "metadata": {},
   "outputs": [
    {
     "data": {
      "text/plain": [
       "Ticket satisfaction comment    0\n",
       "Ticket satisfaction rating     0\n",
       "dtype: int64"
      ]
     },
     "execution_count": 13,
     "metadata": {},
     "output_type": "execute_result"
    }
   ],
   "source": [
    "df.isna().sum()"
   ]
  },
  {
   "cell_type": "code",
   "execution_count": 14,
   "id": "66dc124c",
   "metadata": {},
   "outputs": [],
   "source": [
    "# remove punctuation\n",
    "\n",
    "df['comment_processed'] = \\\n",
    "df['Ticket satisfaction comment'].map(lambda x: re.sub('[,\\.!?]', '', x))"
   ]
  },
  {
   "cell_type": "code",
   "execution_count": 15,
   "id": "0d363653",
   "metadata": {},
   "outputs": [],
   "source": [
    "# convert all text to lower case\n",
    "\n",
    "df['comment_processed'] = \\\n",
    "df['comment_processed'].map(lambda x: x.lower())"
   ]
  },
  {
   "cell_type": "code",
   "execution_count": 16,
   "id": "1f26dc8b",
   "metadata": {},
   "outputs": [
    {
     "data": {
      "text/plain": [
       "0         amazing i found just what i was looking for \n",
       "1                          best customer service ever \n",
       "2     best retail experience i’ve had in ages \\r\\nt...\n",
       "3     called buckle first thing in the morning on f...\n",
       "4                            customer service is great\n",
       "Name: comment_processed, dtype: object"
      ]
     },
     "execution_count": 16,
     "metadata": {},
     "output_type": "execute_result"
    }
   ],
   "source": [
    "df['comment_processed'].head()"
   ]
  },
  {
   "cell_type": "code",
   "execution_count": 19,
   "id": "27e13f68",
   "metadata": {},
   "outputs": [
    {
     "data": {
      "text/html": [
       "<div>\n",
       "<style scoped>\n",
       "    .dataframe tbody tr th:only-of-type {\n",
       "        vertical-align: middle;\n",
       "    }\n",
       "\n",
       "    .dataframe tbody tr th {\n",
       "        vertical-align: top;\n",
       "    }\n",
       "\n",
       "    .dataframe thead th {\n",
       "        text-align: right;\n",
       "    }\n",
       "</style>\n",
       "<table border=\"1\" class=\"dataframe\">\n",
       "  <thead>\n",
       "    <tr style=\"text-align: right;\">\n",
       "      <th></th>\n",
       "      <th>Ticket satisfaction comment</th>\n",
       "      <th>Ticket satisfaction rating</th>\n",
       "      <th>comment_processed</th>\n",
       "    </tr>\n",
       "  </thead>\n",
       "  <tbody>\n",
       "    <tr>\n",
       "      <th>0</th>\n",
       "      <td>amazing I found just what I was looking for</td>\n",
       "      <td>Good</td>\n",
       "      <td>amazing i found just what i was looking for</td>\n",
       "    </tr>\n",
       "    <tr>\n",
       "      <th>1</th>\n",
       "      <td>best customer service ever!</td>\n",
       "      <td>Good</td>\n",
       "      <td>best customer service ever</td>\n",
       "    </tr>\n",
       "    <tr>\n",
       "      <th>2</th>\n",
       "      <td>Best retail experience I’ve had in ages! \\r\\n...</td>\n",
       "      <td>Good</td>\n",
       "      <td>best retail experience i’ve had in ages \\r\\nt...</td>\n",
       "    </tr>\n",
       "    <tr>\n",
       "      <th>3</th>\n",
       "      <td>Called buckle first thing in the morning.. on...</td>\n",
       "      <td>Bad</td>\n",
       "      <td>called buckle first thing in the morning on f...</td>\n",
       "    </tr>\n",
       "    <tr>\n",
       "      <th>4</th>\n",
       "      <td>Customer service is great</td>\n",
       "      <td>Good</td>\n",
       "      <td>customer service is great</td>\n",
       "    </tr>\n",
       "  </tbody>\n",
       "</table>\n",
       "</div>"
      ],
      "text/plain": [
       "                         Ticket satisfaction comment  \\\n",
       "0       amazing I found just what I was looking for    \n",
       "1                       best customer service ever!    \n",
       "2   Best retail experience I’ve had in ages! \\r\\n...   \n",
       "3   Called buckle first thing in the morning.. on...   \n",
       "4                          Customer service is great   \n",
       "\n",
       "  Ticket satisfaction rating  \\\n",
       "0                       Good   \n",
       "1                       Good   \n",
       "2                       Good   \n",
       "3                        Bad   \n",
       "4                       Good   \n",
       "\n",
       "                                   comment_processed  \n",
       "0       amazing i found just what i was looking for   \n",
       "1                        best customer service ever   \n",
       "2   best retail experience i’ve had in ages \\r\\nt...  \n",
       "3   called buckle first thing in the morning on f...  \n",
       "4                          customer service is great  "
      ]
     },
     "execution_count": 19,
     "metadata": {},
     "output_type": "execute_result"
    }
   ],
   "source": [
    "df.head()"
   ]
  },
  {
   "cell_type": "code",
   "execution_count": 22,
   "id": "0e216c86",
   "metadata": {},
   "outputs": [],
   "source": [
    "from sklearn.preprocessing import LabelEncoder\n",
    "\n",
    "# Create a LabelEncoder object\n",
    "le = LabelEncoder()\n",
    "\n",
    "# Encode the categorical labels in the sentiment column\n",
    "df['sentiment_label'] = le.fit_transform(df['Ticket satisfaction rating'])\n"
   ]
  },
  {
   "cell_type": "code",
   "execution_count": 23,
   "id": "809bfb33",
   "metadata": {},
   "outputs": [],
   "source": [
    "# convert the preprocessed text data into numerical features using TF-IDF\n",
    "\n",
    "vectorizer = TfidfVectorizer()\n",
    "X = vectorizer.fit_transform(df['comment_processed'])\n",
    "y = df['sentiment_label']"
   ]
  },
  {
   "cell_type": "code",
   "execution_count": 24,
   "id": "90f82a01",
   "metadata": {},
   "outputs": [
    {
     "data": {
      "text/html": [
       "<div>\n",
       "<style scoped>\n",
       "    .dataframe tbody tr th:only-of-type {\n",
       "        vertical-align: middle;\n",
       "    }\n",
       "\n",
       "    .dataframe tbody tr th {\n",
       "        vertical-align: top;\n",
       "    }\n",
       "\n",
       "    .dataframe thead th {\n",
       "        text-align: right;\n",
       "    }\n",
       "</style>\n",
       "<table border=\"1\" class=\"dataframe\">\n",
       "  <thead>\n",
       "    <tr style=\"text-align: right;\">\n",
       "      <th></th>\n",
       "      <th>Ticket satisfaction comment</th>\n",
       "      <th>Ticket satisfaction rating</th>\n",
       "      <th>comment_processed</th>\n",
       "      <th>sentiment_label</th>\n",
       "    </tr>\n",
       "  </thead>\n",
       "  <tbody>\n",
       "    <tr>\n",
       "      <th>0</th>\n",
       "      <td>amazing I found just what I was looking for</td>\n",
       "      <td>Good</td>\n",
       "      <td>amazing i found just what i was looking for</td>\n",
       "      <td>1</td>\n",
       "    </tr>\n",
       "    <tr>\n",
       "      <th>1</th>\n",
       "      <td>best customer service ever!</td>\n",
       "      <td>Good</td>\n",
       "      <td>best customer service ever</td>\n",
       "      <td>1</td>\n",
       "    </tr>\n",
       "    <tr>\n",
       "      <th>2</th>\n",
       "      <td>Best retail experience I’ve had in ages! \\r\\n...</td>\n",
       "      <td>Good</td>\n",
       "      <td>best retail experience i’ve had in ages \\r\\nt...</td>\n",
       "      <td>1</td>\n",
       "    </tr>\n",
       "    <tr>\n",
       "      <th>3</th>\n",
       "      <td>Called buckle first thing in the morning.. on...</td>\n",
       "      <td>Bad</td>\n",
       "      <td>called buckle first thing in the morning on f...</td>\n",
       "      <td>0</td>\n",
       "    </tr>\n",
       "    <tr>\n",
       "      <th>4</th>\n",
       "      <td>Customer service is great</td>\n",
       "      <td>Good</td>\n",
       "      <td>customer service is great</td>\n",
       "      <td>1</td>\n",
       "    </tr>\n",
       "  </tbody>\n",
       "</table>\n",
       "</div>"
      ],
      "text/plain": [
       "                         Ticket satisfaction comment  \\\n",
       "0       amazing I found just what I was looking for    \n",
       "1                       best customer service ever!    \n",
       "2   Best retail experience I’ve had in ages! \\r\\n...   \n",
       "3   Called buckle first thing in the morning.. on...   \n",
       "4                          Customer service is great   \n",
       "\n",
       "  Ticket satisfaction rating  \\\n",
       "0                       Good   \n",
       "1                       Good   \n",
       "2                       Good   \n",
       "3                        Bad   \n",
       "4                       Good   \n",
       "\n",
       "                                   comment_processed  sentiment_label  \n",
       "0       amazing i found just what i was looking for                 1  \n",
       "1                        best customer service ever                 1  \n",
       "2   best retail experience i’ve had in ages \\r\\nt...                1  \n",
       "3   called buckle first thing in the morning on f...                0  \n",
       "4                          customer service is great                1  "
      ]
     },
     "execution_count": 24,
     "metadata": {},
     "output_type": "execute_result"
    }
   ],
   "source": [
    "df.head()"
   ]
  },
  {
   "cell_type": "code",
   "execution_count": 25,
   "id": "aaefed78",
   "metadata": {},
   "outputs": [],
   "source": [
    "# split the dataset into training and test sets\n",
    "X_train, X_test, y_train, y_test = train_test_split(X, y, test_size=0.2, random_state=42)"
   ]
  },
  {
   "cell_type": "code",
   "execution_count": 26,
   "id": "5da410dd",
   "metadata": {},
   "outputs": [
    {
     "data": {
      "text/plain": [
       "LogisticRegression()"
      ]
     },
     "execution_count": 26,
     "metadata": {},
     "output_type": "execute_result"
    }
   ],
   "source": [
    "# choose a machine learning algorithm and train the model on the training set\n",
    "clf = LogisticRegression()\n",
    "clf.fit(X_train, y_train)"
   ]
  },
  {
   "cell_type": "code",
   "execution_count": 27,
   "id": "f347cf5a",
   "metadata": {},
   "outputs": [],
   "source": [
    "# evaluate the performance of the model on the test set\n",
    "y_pred = clf.predict(X_test)\n",
    "accuracy = accuracy_score(y_test, y_pred)\n",
    "precision = precision_score(y_test, y_pred, average='weighted')\n",
    "recall = recall_score(y_test, y_pred, average='weighted')\n",
    "f1 = f1_score(y_test, y_pred, average='weighted')"
   ]
  },
  {
   "cell_type": "code",
   "execution_count": 28,
   "id": "d8ad3fbb",
   "metadata": {},
   "outputs": [
    {
     "name": "stdout",
     "output_type": "stream",
     "text": [
      "Accuracy: 0.94\n",
      "Precision: 0.94\n",
      "Recall: 0.94\n",
      "F1 score: 0.94\n"
     ]
    }
   ],
   "source": [
    "# print the evaluation metrics\n",
    "print('Accuracy: {:.2f}'.format(accuracy))\n",
    "print('Precision: {:.2f}'.format(precision))\n",
    "print('Recall: {:.2f}'.format(recall))\n",
    "print('F1 score: {:.2f}'.format(f1))"
   ]
  },
  {
   "cell_type": "code",
   "execution_count": 30,
   "id": "0c350f2c",
   "metadata": {},
   "outputs": [
    {
     "name": "stdout",
     "output_type": "stream",
     "text": [
      "[[1032   63]\n",
      " [ 103 1776]]\n"
     ]
    }
   ],
   "source": [
    "from sklearn.metrics import confusion_matrix\n",
    "\n",
    "# Predict the sentiment labels for the test set\n",
    "y_pred = clf.predict(X_test)\n",
    "\n",
    "# Create a confusion matrix\n",
    "confusion_mat = confusion_matrix(y_test, y_pred)\n",
    "\n",
    "# Print the confusion matrix\n",
    "print(confusion_mat)\n"
   ]
  },
  {
   "cell_type": "code",
   "execution_count": null,
   "id": "576f81c5",
   "metadata": {},
   "outputs": [],
   "source": [
    "# TP: 1,032\n",
    "# FN: 103\n",
    "# FP: 63\n",
    "# TN: 1,776"
   ]
  }
 ],
 "metadata": {
  "kernelspec": {
   "display_name": "Python 3 (ipykernel)",
   "language": "python",
   "name": "python3"
  },
  "language_info": {
   "codemirror_mode": {
    "name": "ipython",
    "version": 3
   },
   "file_extension": ".py",
   "mimetype": "text/x-python",
   "name": "python",
   "nbconvert_exporter": "python",
   "pygments_lexer": "ipython3",
   "version": "3.9.13"
  }
 },
 "nbformat": 4,
 "nbformat_minor": 5
}
