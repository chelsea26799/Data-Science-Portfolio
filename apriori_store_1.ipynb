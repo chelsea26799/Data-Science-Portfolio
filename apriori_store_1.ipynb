{
  "nbformat": 4,
  "nbformat_minor": 0,
  "metadata": {
    "colab": {
      "provenance": [],
      "authorship_tag": "ABX9TyPD5jAR7N+DmX5nM6LR/UG3",
      "include_colab_link": true
    },
    "kernelspec": {
      "name": "python3",
      "display_name": "Python 3"
    },
    "language_info": {
      "name": "python"
    }
  },
  "cells": [
    {
      "cell_type": "markdown",
      "metadata": {
        "id": "view-in-github",
        "colab_type": "text"
      },
      "source": [
        "<a href=\"https://colab.research.google.com/github/chelsea26799/Data-Science-Portfolio/blob/main/apriori_store_1.ipynb\" target=\"_parent\"><img src=\"https://colab.research.google.com/assets/colab-badge.svg\" alt=\"Open In Colab\"/></a>"
      ]
    },
    {
      "cell_type": "code",
      "execution_count": null,
      "metadata": {
        "colab": {
          "base_uri": "https://localhost:8080/"
        },
        "id": "NlyI-XWZG2JF",
        "outputId": "f4e420d8-da10-4e55-e0fd-afba824ddfc1"
      },
      "outputs": [
        {
          "output_type": "stream",
          "name": "stdout",
          "text": [
            "Looking in indexes: https://pypi.org/simple, https://us-python.pkg.dev/colab-wheels/public/simple/\n",
            "Requirement already satisfied: mlxtend in /usr/local/lib/python3.9/dist-packages (0.14.0)\n",
            "Requirement already satisfied: scipy>=0.17 in /usr/local/lib/python3.9/dist-packages (from mlxtend) (1.10.1)\n",
            "Requirement already satisfied: scikit-learn>=0.18 in /usr/local/lib/python3.9/dist-packages (from mlxtend) (1.2.2)\n",
            "Requirement already satisfied: matplotlib>=1.5.1 in /usr/local/lib/python3.9/dist-packages (from mlxtend) (3.7.1)\n",
            "Requirement already satisfied: setuptools in /usr/local/lib/python3.9/dist-packages (from mlxtend) (67.6.1)\n",
            "Requirement already satisfied: numpy>=1.10.4 in /usr/local/lib/python3.9/dist-packages (from mlxtend) (1.22.4)\n",
            "Requirement already satisfied: pandas>=0.17.1 in /usr/local/lib/python3.9/dist-packages (from mlxtend) (1.4.4)\n",
            "Requirement already satisfied: contourpy>=1.0.1 in /usr/local/lib/python3.9/dist-packages (from matplotlib>=1.5.1->mlxtend) (1.0.7)\n",
            "Requirement already satisfied: cycler>=0.10 in /usr/local/lib/python3.9/dist-packages (from matplotlib>=1.5.1->mlxtend) (0.11.0)\n",
            "Requirement already satisfied: kiwisolver>=1.0.1 in /usr/local/lib/python3.9/dist-packages (from matplotlib>=1.5.1->mlxtend) (1.4.4)\n",
            "Requirement already satisfied: fonttools>=4.22.0 in /usr/local/lib/python3.9/dist-packages (from matplotlib>=1.5.1->mlxtend) (4.39.3)\n",
            "Requirement already satisfied: importlib-resources>=3.2.0 in /usr/local/lib/python3.9/dist-packages (from matplotlib>=1.5.1->mlxtend) (5.12.0)\n",
            "Requirement already satisfied: pyparsing>=2.3.1 in /usr/local/lib/python3.9/dist-packages (from matplotlib>=1.5.1->mlxtend) (3.0.9)\n",
            "Requirement already satisfied: packaging>=20.0 in /usr/local/lib/python3.9/dist-packages (from matplotlib>=1.5.1->mlxtend) (23.0)\n",
            "Requirement already satisfied: python-dateutil>=2.7 in /usr/local/lib/python3.9/dist-packages (from matplotlib>=1.5.1->mlxtend) (2.8.2)\n",
            "Requirement already satisfied: pillow>=6.2.0 in /usr/local/lib/python3.9/dist-packages (from matplotlib>=1.5.1->mlxtend) (8.4.0)\n",
            "Requirement already satisfied: pytz>=2020.1 in /usr/local/lib/python3.9/dist-packages (from pandas>=0.17.1->mlxtend) (2022.7.1)\n",
            "Requirement already satisfied: threadpoolctl>=2.0.0 in /usr/local/lib/python3.9/dist-packages (from scikit-learn>=0.18->mlxtend) (3.1.0)\n",
            "Requirement already satisfied: joblib>=1.1.1 in /usr/local/lib/python3.9/dist-packages (from scikit-learn>=0.18->mlxtend) (1.1.1)\n",
            "Requirement already satisfied: zipp>=3.1.0 in /usr/local/lib/python3.9/dist-packages (from importlib-resources>=3.2.0->matplotlib>=1.5.1->mlxtend) (3.15.0)\n",
            "Requirement already satisfied: six>=1.5 in /usr/local/lib/python3.9/dist-packages (from python-dateutil>=2.7->matplotlib>=1.5.1->mlxtend) (1.16.0)\n"
          ]
        }
      ],
      "source": [
        "import numpy as np\n",
        "import pandas as pd\n",
        "!pip install mlxtend\n",
        "from mlxtend.frequent_patterns import apriori, association_rules"
      ]
    },
    {
      "cell_type": "code",
      "source": [],
      "metadata": {
        "id": "CpapOQBnG5Ja"
      },
      "execution_count": null,
      "outputs": []
    },
    {
      "cell_type": "code",
      "source": [
        "from google.colab import files\n",
        "uploaded = files.upload()"
      ],
      "metadata": {
        "colab": {
          "base_uri": "https://localhost:8080/",
          "height": 73
        },
        "id": "SWI4dJoykIBi",
        "outputId": "9e53faf0-2b0b-430c-8d09-c55ce60c3931"
      },
      "execution_count": null,
      "outputs": [
        {
          "output_type": "display_data",
          "data": {
            "text/plain": [
              "<IPython.core.display.HTML object>"
            ],
            "text/html": [
              "\n",
              "     <input type=\"file\" id=\"files-7531d30b-4c1d-449e-98a9-2e8ba6e69457\" name=\"files[]\" multiple disabled\n",
              "        style=\"border:none\" />\n",
              "     <output id=\"result-7531d30b-4c1d-449e-98a9-2e8ba6e69457\">\n",
              "      Upload widget is only available when the cell has been executed in the\n",
              "      current browser session. Please rerun this cell to enable.\n",
              "      </output>\n",
              "      <script>// Copyright 2017 Google LLC\n",
              "//\n",
              "// Licensed under the Apache License, Version 2.0 (the \"License\");\n",
              "// you may not use this file except in compliance with the License.\n",
              "// You may obtain a copy of the License at\n",
              "//\n",
              "//      http://www.apache.org/licenses/LICENSE-2.0\n",
              "//\n",
              "// Unless required by applicable law or agreed to in writing, software\n",
              "// distributed under the License is distributed on an \"AS IS\" BASIS,\n",
              "// WITHOUT WARRANTIES OR CONDITIONS OF ANY KIND, either express or implied.\n",
              "// See the License for the specific language governing permissions and\n",
              "// limitations under the License.\n",
              "\n",
              "/**\n",
              " * @fileoverview Helpers for google.colab Python module.\n",
              " */\n",
              "(function(scope) {\n",
              "function span(text, styleAttributes = {}) {\n",
              "  const element = document.createElement('span');\n",
              "  element.textContent = text;\n",
              "  for (const key of Object.keys(styleAttributes)) {\n",
              "    element.style[key] = styleAttributes[key];\n",
              "  }\n",
              "  return element;\n",
              "}\n",
              "\n",
              "// Max number of bytes which will be uploaded at a time.\n",
              "const MAX_PAYLOAD_SIZE = 100 * 1024;\n",
              "\n",
              "function _uploadFiles(inputId, outputId) {\n",
              "  const steps = uploadFilesStep(inputId, outputId);\n",
              "  const outputElement = document.getElementById(outputId);\n",
              "  // Cache steps on the outputElement to make it available for the next call\n",
              "  // to uploadFilesContinue from Python.\n",
              "  outputElement.steps = steps;\n",
              "\n",
              "  return _uploadFilesContinue(outputId);\n",
              "}\n",
              "\n",
              "// This is roughly an async generator (not supported in the browser yet),\n",
              "// where there are multiple asynchronous steps and the Python side is going\n",
              "// to poll for completion of each step.\n",
              "// This uses a Promise to block the python side on completion of each step,\n",
              "// then passes the result of the previous step as the input to the next step.\n",
              "function _uploadFilesContinue(outputId) {\n",
              "  const outputElement = document.getElementById(outputId);\n",
              "  const steps = outputElement.steps;\n",
              "\n",
              "  const next = steps.next(outputElement.lastPromiseValue);\n",
              "  return Promise.resolve(next.value.promise).then((value) => {\n",
              "    // Cache the last promise value to make it available to the next\n",
              "    // step of the generator.\n",
              "    outputElement.lastPromiseValue = value;\n",
              "    return next.value.response;\n",
              "  });\n",
              "}\n",
              "\n",
              "/**\n",
              " * Generator function which is called between each async step of the upload\n",
              " * process.\n",
              " * @param {string} inputId Element ID of the input file picker element.\n",
              " * @param {string} outputId Element ID of the output display.\n",
              " * @return {!Iterable<!Object>} Iterable of next steps.\n",
              " */\n",
              "function* uploadFilesStep(inputId, outputId) {\n",
              "  const inputElement = document.getElementById(inputId);\n",
              "  inputElement.disabled = false;\n",
              "\n",
              "  const outputElement = document.getElementById(outputId);\n",
              "  outputElement.innerHTML = '';\n",
              "\n",
              "  const pickedPromise = new Promise((resolve) => {\n",
              "    inputElement.addEventListener('change', (e) => {\n",
              "      resolve(e.target.files);\n",
              "    });\n",
              "  });\n",
              "\n",
              "  const cancel = document.createElement('button');\n",
              "  inputElement.parentElement.appendChild(cancel);\n",
              "  cancel.textContent = 'Cancel upload';\n",
              "  const cancelPromise = new Promise((resolve) => {\n",
              "    cancel.onclick = () => {\n",
              "      resolve(null);\n",
              "    };\n",
              "  });\n",
              "\n",
              "  // Wait for the user to pick the files.\n",
              "  const files = yield {\n",
              "    promise: Promise.race([pickedPromise, cancelPromise]),\n",
              "    response: {\n",
              "      action: 'starting',\n",
              "    }\n",
              "  };\n",
              "\n",
              "  cancel.remove();\n",
              "\n",
              "  // Disable the input element since further picks are not allowed.\n",
              "  inputElement.disabled = true;\n",
              "\n",
              "  if (!files) {\n",
              "    return {\n",
              "      response: {\n",
              "        action: 'complete',\n",
              "      }\n",
              "    };\n",
              "  }\n",
              "\n",
              "  for (const file of files) {\n",
              "    const li = document.createElement('li');\n",
              "    li.append(span(file.name, {fontWeight: 'bold'}));\n",
              "    li.append(span(\n",
              "        `(${file.type || 'n/a'}) - ${file.size} bytes, ` +\n",
              "        `last modified: ${\n",
              "            file.lastModifiedDate ? file.lastModifiedDate.toLocaleDateString() :\n",
              "                                    'n/a'} - `));\n",
              "    const percent = span('0% done');\n",
              "    li.appendChild(percent);\n",
              "\n",
              "    outputElement.appendChild(li);\n",
              "\n",
              "    const fileDataPromise = new Promise((resolve) => {\n",
              "      const reader = new FileReader();\n",
              "      reader.onload = (e) => {\n",
              "        resolve(e.target.result);\n",
              "      };\n",
              "      reader.readAsArrayBuffer(file);\n",
              "    });\n",
              "    // Wait for the data to be ready.\n",
              "    let fileData = yield {\n",
              "      promise: fileDataPromise,\n",
              "      response: {\n",
              "        action: 'continue',\n",
              "      }\n",
              "    };\n",
              "\n",
              "    // Use a chunked sending to avoid message size limits. See b/62115660.\n",
              "    let position = 0;\n",
              "    do {\n",
              "      const length = Math.min(fileData.byteLength - position, MAX_PAYLOAD_SIZE);\n",
              "      const chunk = new Uint8Array(fileData, position, length);\n",
              "      position += length;\n",
              "\n",
              "      const base64 = btoa(String.fromCharCode.apply(null, chunk));\n",
              "      yield {\n",
              "        response: {\n",
              "          action: 'append',\n",
              "          file: file.name,\n",
              "          data: base64,\n",
              "        },\n",
              "      };\n",
              "\n",
              "      let percentDone = fileData.byteLength === 0 ?\n",
              "          100 :\n",
              "          Math.round((position / fileData.byteLength) * 100);\n",
              "      percent.textContent = `${percentDone}% done`;\n",
              "\n",
              "    } while (position < fileData.byteLength);\n",
              "  }\n",
              "\n",
              "  // All done.\n",
              "  yield {\n",
              "    response: {\n",
              "      action: 'complete',\n",
              "    }\n",
              "  };\n",
              "}\n",
              "\n",
              "scope.google = scope.google || {};\n",
              "scope.google.colab = scope.google.colab || {};\n",
              "scope.google.colab._files = {\n",
              "  _uploadFiles,\n",
              "  _uploadFilesContinue,\n",
              "};\n",
              "})(self);\n",
              "</script> "
            ]
          },
          "metadata": {}
        },
        {
          "output_type": "stream",
          "name": "stdout",
          "text": [
            "Saving store_1_pairs.xlsx to store_1_pairs.xlsx\n"
          ]
        }
      ]
    },
    {
      "cell_type": "code",
      "source": [
        "df = pd.read_excel(\"store_1_pairs.xlsx\")"
      ],
      "metadata": {
        "id": "Xuwo-9m3HaS8"
      },
      "execution_count": null,
      "outputs": []
    },
    {
      "cell_type": "code",
      "source": [
        "df.head(20)"
      ],
      "metadata": {
        "colab": {
          "base_uri": "https://localhost:8080/",
          "height": 677
        },
        "id": "1necRt2cHobY",
        "outputId": "38ef09f8-53a8-4459-cc77-152b30b2b499"
      },
      "execution_count": null,
      "outputs": [
        {
          "output_type": "execute_result",
          "data": {
            "text/plain": [
              "    If Entry No                 Class Description\n",
              "0     356792802            01-200 - FASHION JEANS\n",
              "1     356792803  63-720 - 3/4 L/S PULLOVER HVY WT\n",
              "2     356792804            51-200 - FASHION JEANS\n",
              "3     356792805                 12-120 - SS POLOS\n",
              "4     356792806            51-200 - FASHION JEANS\n",
              "5     356792807            51-200 - FASHION JEANS\n",
              "6     356792808                41-800 - HATS/CAPS\n",
              "7     356792809            51-200 - FASHION JEANS\n",
              "8     356792810        62-620 - L/S FASHION KNITS\n",
              "9     356792811            51-200 - FASHION JEANS\n",
              "10    356792812        61-700 - 3/4 L/S SYNTHETIC\n",
              "11    356792812        62-620 - L/S FASHION KNITS\n",
              "12    356792813                62-178 - BRALETTES\n",
              "13    356792814              93-700 - EVA CASUALS\n",
              "14    356792815        62-655 - L/S FASHION SOLID\n",
              "15    356792816              93-700 - EVA CASUALS\n",
              "16    356792817   86-700 - CASUAL HVWT 3RD LAYERS\n",
              "17    356792818       12-650 - LS GRAPHIC FASHION\n",
              "18    356792819   12-640 - LS GRAPHIC JERSEY KNIT\n",
              "19    356792820                  12-140 - SS TEES"
            ],
            "text/html": [
              "\n",
              "  <div id=\"df-cdbc6322-8735-426b-9f27-41583f7605f6\">\n",
              "    <div class=\"colab-df-container\">\n",
              "      <div>\n",
              "<style scoped>\n",
              "    .dataframe tbody tr th:only-of-type {\n",
              "        vertical-align: middle;\n",
              "    }\n",
              "\n",
              "    .dataframe tbody tr th {\n",
              "        vertical-align: top;\n",
              "    }\n",
              "\n",
              "    .dataframe thead th {\n",
              "        text-align: right;\n",
              "    }\n",
              "</style>\n",
              "<table border=\"1\" class=\"dataframe\">\n",
              "  <thead>\n",
              "    <tr style=\"text-align: right;\">\n",
              "      <th></th>\n",
              "      <th>If Entry No</th>\n",
              "      <th>Class Description</th>\n",
              "    </tr>\n",
              "  </thead>\n",
              "  <tbody>\n",
              "    <tr>\n",
              "      <th>0</th>\n",
              "      <td>356792802</td>\n",
              "      <td>01-200 - FASHION JEANS</td>\n",
              "    </tr>\n",
              "    <tr>\n",
              "      <th>1</th>\n",
              "      <td>356792803</td>\n",
              "      <td>63-720 - 3/4 L/S PULLOVER HVY WT</td>\n",
              "    </tr>\n",
              "    <tr>\n",
              "      <th>2</th>\n",
              "      <td>356792804</td>\n",
              "      <td>51-200 - FASHION JEANS</td>\n",
              "    </tr>\n",
              "    <tr>\n",
              "      <th>3</th>\n",
              "      <td>356792805</td>\n",
              "      <td>12-120 - SS POLOS</td>\n",
              "    </tr>\n",
              "    <tr>\n",
              "      <th>4</th>\n",
              "      <td>356792806</td>\n",
              "      <td>51-200 - FASHION JEANS</td>\n",
              "    </tr>\n",
              "    <tr>\n",
              "      <th>5</th>\n",
              "      <td>356792807</td>\n",
              "      <td>51-200 - FASHION JEANS</td>\n",
              "    </tr>\n",
              "    <tr>\n",
              "      <th>6</th>\n",
              "      <td>356792808</td>\n",
              "      <td>41-800 - HATS/CAPS</td>\n",
              "    </tr>\n",
              "    <tr>\n",
              "      <th>7</th>\n",
              "      <td>356792809</td>\n",
              "      <td>51-200 - FASHION JEANS</td>\n",
              "    </tr>\n",
              "    <tr>\n",
              "      <th>8</th>\n",
              "      <td>356792810</td>\n",
              "      <td>62-620 - L/S FASHION KNITS</td>\n",
              "    </tr>\n",
              "    <tr>\n",
              "      <th>9</th>\n",
              "      <td>356792811</td>\n",
              "      <td>51-200 - FASHION JEANS</td>\n",
              "    </tr>\n",
              "    <tr>\n",
              "      <th>10</th>\n",
              "      <td>356792812</td>\n",
              "      <td>61-700 - 3/4 L/S SYNTHETIC</td>\n",
              "    </tr>\n",
              "    <tr>\n",
              "      <th>11</th>\n",
              "      <td>356792812</td>\n",
              "      <td>62-620 - L/S FASHION KNITS</td>\n",
              "    </tr>\n",
              "    <tr>\n",
              "      <th>12</th>\n",
              "      <td>356792813</td>\n",
              "      <td>62-178 - BRALETTES</td>\n",
              "    </tr>\n",
              "    <tr>\n",
              "      <th>13</th>\n",
              "      <td>356792814</td>\n",
              "      <td>93-700 - EVA CASUALS</td>\n",
              "    </tr>\n",
              "    <tr>\n",
              "      <th>14</th>\n",
              "      <td>356792815</td>\n",
              "      <td>62-655 - L/S FASHION SOLID</td>\n",
              "    </tr>\n",
              "    <tr>\n",
              "      <th>15</th>\n",
              "      <td>356792816</td>\n",
              "      <td>93-700 - EVA CASUALS</td>\n",
              "    </tr>\n",
              "    <tr>\n",
              "      <th>16</th>\n",
              "      <td>356792817</td>\n",
              "      <td>86-700 - CASUAL HVWT 3RD LAYERS</td>\n",
              "    </tr>\n",
              "    <tr>\n",
              "      <th>17</th>\n",
              "      <td>356792818</td>\n",
              "      <td>12-650 - LS GRAPHIC FASHION</td>\n",
              "    </tr>\n",
              "    <tr>\n",
              "      <th>18</th>\n",
              "      <td>356792819</td>\n",
              "      <td>12-640 - LS GRAPHIC JERSEY KNIT</td>\n",
              "    </tr>\n",
              "    <tr>\n",
              "      <th>19</th>\n",
              "      <td>356792820</td>\n",
              "      <td>12-140 - SS TEES</td>\n",
              "    </tr>\n",
              "  </tbody>\n",
              "</table>\n",
              "</div>\n",
              "      <button class=\"colab-df-convert\" onclick=\"convertToInteractive('df-cdbc6322-8735-426b-9f27-41583f7605f6')\"\n",
              "              title=\"Convert this dataframe to an interactive table.\"\n",
              "              style=\"display:none;\">\n",
              "        \n",
              "  <svg xmlns=\"http://www.w3.org/2000/svg\" height=\"24px\"viewBox=\"0 0 24 24\"\n",
              "       width=\"24px\">\n",
              "    <path d=\"M0 0h24v24H0V0z\" fill=\"none\"/>\n",
              "    <path d=\"M18.56 5.44l.94 2.06.94-2.06 2.06-.94-2.06-.94-.94-2.06-.94 2.06-2.06.94zm-11 1L8.5 8.5l.94-2.06 2.06-.94-2.06-.94L8.5 2.5l-.94 2.06-2.06.94zm10 10l.94 2.06.94-2.06 2.06-.94-2.06-.94-.94-2.06-.94 2.06-2.06.94z\"/><path d=\"M17.41 7.96l-1.37-1.37c-.4-.4-.92-.59-1.43-.59-.52 0-1.04.2-1.43.59L10.3 9.45l-7.72 7.72c-.78.78-.78 2.05 0 2.83L4 21.41c.39.39.9.59 1.41.59.51 0 1.02-.2 1.41-.59l7.78-7.78 2.81-2.81c.8-.78.8-2.07 0-2.86zM5.41 20L4 18.59l7.72-7.72 1.47 1.35L5.41 20z\"/>\n",
              "  </svg>\n",
              "      </button>\n",
              "      \n",
              "  <style>\n",
              "    .colab-df-container {\n",
              "      display:flex;\n",
              "      flex-wrap:wrap;\n",
              "      gap: 12px;\n",
              "    }\n",
              "\n",
              "    .colab-df-convert {\n",
              "      background-color: #E8F0FE;\n",
              "      border: none;\n",
              "      border-radius: 50%;\n",
              "      cursor: pointer;\n",
              "      display: none;\n",
              "      fill: #1967D2;\n",
              "      height: 32px;\n",
              "      padding: 0 0 0 0;\n",
              "      width: 32px;\n",
              "    }\n",
              "\n",
              "    .colab-df-convert:hover {\n",
              "      background-color: #E2EBFA;\n",
              "      box-shadow: 0px 1px 2px rgba(60, 64, 67, 0.3), 0px 1px 3px 1px rgba(60, 64, 67, 0.15);\n",
              "      fill: #174EA6;\n",
              "    }\n",
              "\n",
              "    [theme=dark] .colab-df-convert {\n",
              "      background-color: #3B4455;\n",
              "      fill: #D2E3FC;\n",
              "    }\n",
              "\n",
              "    [theme=dark] .colab-df-convert:hover {\n",
              "      background-color: #434B5C;\n",
              "      box-shadow: 0px 1px 3px 1px rgba(0, 0, 0, 0.15);\n",
              "      filter: drop-shadow(0px 1px 2px rgba(0, 0, 0, 0.3));\n",
              "      fill: #FFFFFF;\n",
              "    }\n",
              "  </style>\n",
              "\n",
              "      <script>\n",
              "        const buttonEl =\n",
              "          document.querySelector('#df-cdbc6322-8735-426b-9f27-41583f7605f6 button.colab-df-convert');\n",
              "        buttonEl.style.display =\n",
              "          google.colab.kernel.accessAllowed ? 'block' : 'none';\n",
              "\n",
              "        async function convertToInteractive(key) {\n",
              "          const element = document.querySelector('#df-cdbc6322-8735-426b-9f27-41583f7605f6');\n",
              "          const dataTable =\n",
              "            await google.colab.kernel.invokeFunction('convertToInteractive',\n",
              "                                                     [key], {});\n",
              "          if (!dataTable) return;\n",
              "\n",
              "          const docLinkHtml = 'Like what you see? Visit the ' +\n",
              "            '<a target=\"_blank\" href=https://colab.research.google.com/notebooks/data_table.ipynb>data table notebook</a>'\n",
              "            + ' to learn more about interactive tables.';\n",
              "          element.innerHTML = '';\n",
              "          dataTable['output_type'] = 'display_data';\n",
              "          await google.colab.output.renderOutput(dataTable, element);\n",
              "          const docLink = document.createElement('div');\n",
              "          docLink.innerHTML = docLinkHtml;\n",
              "          element.appendChild(docLink);\n",
              "        }\n",
              "      </script>\n",
              "    </div>\n",
              "  </div>\n",
              "  "
            ]
          },
          "metadata": {},
          "execution_count": 5
        }
      ]
    },
    {
      "cell_type": "code",
      "source": [
        "df['Class Description'] = df['Class Description'].str.strip()"
      ],
      "metadata": {
        "id": "3ysHHwo5IRUv"
      },
      "execution_count": null,
      "outputs": []
    },
    {
      "cell_type": "code",
      "source": [
        "df2 = df.groupby('If Entry No')['Class Description'].apply(list)\n",
        "df2.head(20)"
      ],
      "metadata": {
        "colab": {
          "base_uri": "https://localhost:8080/"
        },
        "id": "4GzWvVMOJfbn",
        "outputId": "b35dabfe-83fa-4218-b40d-8b7ca53335d0"
      },
      "execution_count": null,
      "outputs": [
        {
          "output_type": "execute_result",
          "data": {
            "text/plain": [
              "If Entry No\n",
              "356792802                             [01-200 - FASHION JEANS]\n",
              "356792803                   [63-720 - 3/4 L/S PULLOVER HVY WT]\n",
              "356792804                             [51-200 - FASHION JEANS]\n",
              "356792805                                  [12-120 - SS POLOS]\n",
              "356792806                             [51-200 - FASHION JEANS]\n",
              "356792807                             [51-200 - FASHION JEANS]\n",
              "356792808                                 [41-800 - HATS/CAPS]\n",
              "356792809                             [51-200 - FASHION JEANS]\n",
              "356792810                         [62-620 - L/S FASHION KNITS]\n",
              "356792811                             [51-200 - FASHION JEANS]\n",
              "356792812    [61-700 - 3/4 L/S SYNTHETIC, 62-620 - L/S FASH...\n",
              "356792813                                 [62-178 - BRALETTES]\n",
              "356792814                               [93-700 - EVA CASUALS]\n",
              "356792815                         [62-655 - L/S FASHION SOLID]\n",
              "356792816                               [93-700 - EVA CASUALS]\n",
              "356792817                    [86-700 - CASUAL HVWT 3RD LAYERS]\n",
              "356792818                        [12-650 - LS GRAPHIC FASHION]\n",
              "356792819                    [12-640 - LS GRAPHIC JERSEY KNIT]\n",
              "356792820           [12-140 - SS TEES, 51-200 - FASHION JEANS]\n",
              "356792821                             [51-200 - FASHION JEANS]\n",
              "Name: Class Description, dtype: object"
            ]
          },
          "metadata": {},
          "execution_count": 10
        }
      ]
    },
    {
      "cell_type": "code",
      "source": [
        "df2.info"
      ],
      "metadata": {
        "colab": {
          "base_uri": "https://localhost:8080/"
        },
        "id": "HaU2Twl6TeD5",
        "outputId": "1cf8baac-b9c6-4200-8c15-739bee357d34"
      },
      "execution_count": null,
      "outputs": [
        {
          "output_type": "execute_result",
          "data": {
            "text/plain": [
              "<bound method Series.info of If Entry No\n",
              "356792802                             [01-200 - FASHION JEANS]\n",
              "356792803                   [63-720 - 3/4 L/S PULLOVER HVY WT]\n",
              "356792804                             [51-200 - FASHION JEANS]\n",
              "356792805                                  [12-120 - SS POLOS]\n",
              "356792806                             [51-200 - FASHION JEANS]\n",
              "                                   ...                        \n",
              "368457177                               [96-100 - DENIM JEANS]\n",
              "368457178                            [43-410 - COMFORT CASUAL]\n",
              "368457395                             [51-200 - FASHION JEANS]\n",
              "368457396                             [51-200 - FASHION JEANS]\n",
              "368457500    [62-115 - S/S FASHION SOLIDS, 62-620 - L/S FAS...\n",
              "Name: Class Description, Length: 390788, dtype: object>"
            ]
          },
          "metadata": {},
          "execution_count": 12
        }
      ]
    },
    {
      "cell_type": "code",
      "source": [],
      "metadata": {
        "id": "SxyS_vrYVz3A"
      },
      "execution_count": null,
      "outputs": []
    },
    {
      "cell_type": "code",
      "source": [
        "df3 = df.groupby(\"If Entry No\").agg({\"Class Description\": lambda x: list(x)})"
      ],
      "metadata": {
        "id": "XvBlyctSTgVy"
      },
      "execution_count": null,
      "outputs": []
    },
    {
      "cell_type": "code",
      "source": [
        "df3.head(20)"
      ],
      "metadata": {
        "colab": {
          "base_uri": "https://localhost:8080/",
          "height": 708
        },
        "id": "tltjO6lVUWxT",
        "outputId": "613f7bfd-f6e9-4f50-90d7-cd07586921f5"
      },
      "execution_count": null,
      "outputs": [
        {
          "output_type": "execute_result",
          "data": {
            "text/plain": [
              "                                             Class Description\n",
              "If Entry No                                                   \n",
              "356792802                             [01-200 - FASHION JEANS]\n",
              "356792803                   [63-720 - 3/4 L/S PULLOVER HVY WT]\n",
              "356792804                             [51-200 - FASHION JEANS]\n",
              "356792805                                  [12-120 - SS POLOS]\n",
              "356792806                             [51-200 - FASHION JEANS]\n",
              "356792807                             [51-200 - FASHION JEANS]\n",
              "356792808                                 [41-800 - HATS/CAPS]\n",
              "356792809                             [51-200 - FASHION JEANS]\n",
              "356792810                         [62-620 - L/S FASHION KNITS]\n",
              "356792811                             [51-200 - FASHION JEANS]\n",
              "356792812    [61-700 - 3/4 L/S SYNTHETIC, 62-620 - L/S FASH...\n",
              "356792813                                 [62-178 - BRALETTES]\n",
              "356792814                               [93-700 - EVA CASUALS]\n",
              "356792815                         [62-655 - L/S FASHION SOLID]\n",
              "356792816                               [93-700 - EVA CASUALS]\n",
              "356792817                    [86-700 - CASUAL HVWT 3RD LAYERS]\n",
              "356792818                        [12-650 - LS GRAPHIC FASHION]\n",
              "356792819                    [12-640 - LS GRAPHIC JERSEY KNIT]\n",
              "356792820           [12-140 - SS TEES, 51-200 - FASHION JEANS]\n",
              "356792821                             [51-200 - FASHION JEANS]"
            ],
            "text/html": [
              "\n",
              "  <div id=\"df-ef195e36-9cf9-4828-9e94-d61f9c507d72\">\n",
              "    <div class=\"colab-df-container\">\n",
              "      <div>\n",
              "<style scoped>\n",
              "    .dataframe tbody tr th:only-of-type {\n",
              "        vertical-align: middle;\n",
              "    }\n",
              "\n",
              "    .dataframe tbody tr th {\n",
              "        vertical-align: top;\n",
              "    }\n",
              "\n",
              "    .dataframe thead th {\n",
              "        text-align: right;\n",
              "    }\n",
              "</style>\n",
              "<table border=\"1\" class=\"dataframe\">\n",
              "  <thead>\n",
              "    <tr style=\"text-align: right;\">\n",
              "      <th></th>\n",
              "      <th>Class Description</th>\n",
              "    </tr>\n",
              "    <tr>\n",
              "      <th>If Entry No</th>\n",
              "      <th></th>\n",
              "    </tr>\n",
              "  </thead>\n",
              "  <tbody>\n",
              "    <tr>\n",
              "      <th>356792802</th>\n",
              "      <td>[01-200 - FASHION JEANS]</td>\n",
              "    </tr>\n",
              "    <tr>\n",
              "      <th>356792803</th>\n",
              "      <td>[63-720 - 3/4 L/S PULLOVER HVY WT]</td>\n",
              "    </tr>\n",
              "    <tr>\n",
              "      <th>356792804</th>\n",
              "      <td>[51-200 - FASHION JEANS]</td>\n",
              "    </tr>\n",
              "    <tr>\n",
              "      <th>356792805</th>\n",
              "      <td>[12-120 - SS POLOS]</td>\n",
              "    </tr>\n",
              "    <tr>\n",
              "      <th>356792806</th>\n",
              "      <td>[51-200 - FASHION JEANS]</td>\n",
              "    </tr>\n",
              "    <tr>\n",
              "      <th>356792807</th>\n",
              "      <td>[51-200 - FASHION JEANS]</td>\n",
              "    </tr>\n",
              "    <tr>\n",
              "      <th>356792808</th>\n",
              "      <td>[41-800 - HATS/CAPS]</td>\n",
              "    </tr>\n",
              "    <tr>\n",
              "      <th>356792809</th>\n",
              "      <td>[51-200 - FASHION JEANS]</td>\n",
              "    </tr>\n",
              "    <tr>\n",
              "      <th>356792810</th>\n",
              "      <td>[62-620 - L/S FASHION KNITS]</td>\n",
              "    </tr>\n",
              "    <tr>\n",
              "      <th>356792811</th>\n",
              "      <td>[51-200 - FASHION JEANS]</td>\n",
              "    </tr>\n",
              "    <tr>\n",
              "      <th>356792812</th>\n",
              "      <td>[61-700 - 3/4 L/S SYNTHETIC, 62-620 - L/S FASH...</td>\n",
              "    </tr>\n",
              "    <tr>\n",
              "      <th>356792813</th>\n",
              "      <td>[62-178 - BRALETTES]</td>\n",
              "    </tr>\n",
              "    <tr>\n",
              "      <th>356792814</th>\n",
              "      <td>[93-700 - EVA CASUALS]</td>\n",
              "    </tr>\n",
              "    <tr>\n",
              "      <th>356792815</th>\n",
              "      <td>[62-655 - L/S FASHION SOLID]</td>\n",
              "    </tr>\n",
              "    <tr>\n",
              "      <th>356792816</th>\n",
              "      <td>[93-700 - EVA CASUALS]</td>\n",
              "    </tr>\n",
              "    <tr>\n",
              "      <th>356792817</th>\n",
              "      <td>[86-700 - CASUAL HVWT 3RD LAYERS]</td>\n",
              "    </tr>\n",
              "    <tr>\n",
              "      <th>356792818</th>\n",
              "      <td>[12-650 - LS GRAPHIC FASHION]</td>\n",
              "    </tr>\n",
              "    <tr>\n",
              "      <th>356792819</th>\n",
              "      <td>[12-640 - LS GRAPHIC JERSEY KNIT]</td>\n",
              "    </tr>\n",
              "    <tr>\n",
              "      <th>356792820</th>\n",
              "      <td>[12-140 - SS TEES, 51-200 - FASHION JEANS]</td>\n",
              "    </tr>\n",
              "    <tr>\n",
              "      <th>356792821</th>\n",
              "      <td>[51-200 - FASHION JEANS]</td>\n",
              "    </tr>\n",
              "  </tbody>\n",
              "</table>\n",
              "</div>\n",
              "      <button class=\"colab-df-convert\" onclick=\"convertToInteractive('df-ef195e36-9cf9-4828-9e94-d61f9c507d72')\"\n",
              "              title=\"Convert this dataframe to an interactive table.\"\n",
              "              style=\"display:none;\">\n",
              "        \n",
              "  <svg xmlns=\"http://www.w3.org/2000/svg\" height=\"24px\"viewBox=\"0 0 24 24\"\n",
              "       width=\"24px\">\n",
              "    <path d=\"M0 0h24v24H0V0z\" fill=\"none\"/>\n",
              "    <path d=\"M18.56 5.44l.94 2.06.94-2.06 2.06-.94-2.06-.94-.94-2.06-.94 2.06-2.06.94zm-11 1L8.5 8.5l.94-2.06 2.06-.94-2.06-.94L8.5 2.5l-.94 2.06-2.06.94zm10 10l.94 2.06.94-2.06 2.06-.94-2.06-.94-.94-2.06-.94 2.06-2.06.94z\"/><path d=\"M17.41 7.96l-1.37-1.37c-.4-.4-.92-.59-1.43-.59-.52 0-1.04.2-1.43.59L10.3 9.45l-7.72 7.72c-.78.78-.78 2.05 0 2.83L4 21.41c.39.39.9.59 1.41.59.51 0 1.02-.2 1.41-.59l7.78-7.78 2.81-2.81c.8-.78.8-2.07 0-2.86zM5.41 20L4 18.59l7.72-7.72 1.47 1.35L5.41 20z\"/>\n",
              "  </svg>\n",
              "      </button>\n",
              "      \n",
              "  <style>\n",
              "    .colab-df-container {\n",
              "      display:flex;\n",
              "      flex-wrap:wrap;\n",
              "      gap: 12px;\n",
              "    }\n",
              "\n",
              "    .colab-df-convert {\n",
              "      background-color: #E8F0FE;\n",
              "      border: none;\n",
              "      border-radius: 50%;\n",
              "      cursor: pointer;\n",
              "      display: none;\n",
              "      fill: #1967D2;\n",
              "      height: 32px;\n",
              "      padding: 0 0 0 0;\n",
              "      width: 32px;\n",
              "    }\n",
              "\n",
              "    .colab-df-convert:hover {\n",
              "      background-color: #E2EBFA;\n",
              "      box-shadow: 0px 1px 2px rgba(60, 64, 67, 0.3), 0px 1px 3px 1px rgba(60, 64, 67, 0.15);\n",
              "      fill: #174EA6;\n",
              "    }\n",
              "\n",
              "    [theme=dark] .colab-df-convert {\n",
              "      background-color: #3B4455;\n",
              "      fill: #D2E3FC;\n",
              "    }\n",
              "\n",
              "    [theme=dark] .colab-df-convert:hover {\n",
              "      background-color: #434B5C;\n",
              "      box-shadow: 0px 1px 3px 1px rgba(0, 0, 0, 0.15);\n",
              "      filter: drop-shadow(0px 1px 2px rgba(0, 0, 0, 0.3));\n",
              "      fill: #FFFFFF;\n",
              "    }\n",
              "  </style>\n",
              "\n",
              "      <script>\n",
              "        const buttonEl =\n",
              "          document.querySelector('#df-ef195e36-9cf9-4828-9e94-d61f9c507d72 button.colab-df-convert');\n",
              "        buttonEl.style.display =\n",
              "          google.colab.kernel.accessAllowed ? 'block' : 'none';\n",
              "\n",
              "        async function convertToInteractive(key) {\n",
              "          const element = document.querySelector('#df-ef195e36-9cf9-4828-9e94-d61f9c507d72');\n",
              "          const dataTable =\n",
              "            await google.colab.kernel.invokeFunction('convertToInteractive',\n",
              "                                                     [key], {});\n",
              "          if (!dataTable) return;\n",
              "\n",
              "          const docLinkHtml = 'Like what you see? Visit the ' +\n",
              "            '<a target=\"_blank\" href=https://colab.research.google.com/notebooks/data_table.ipynb>data table notebook</a>'\n",
              "            + ' to learn more about interactive tables.';\n",
              "          element.innerHTML = '';\n",
              "          dataTable['output_type'] = 'display_data';\n",
              "          await google.colab.output.renderOutput(dataTable, element);\n",
              "          const docLink = document.createElement('div');\n",
              "          docLink.innerHTML = docLinkHtml;\n",
              "          element.appendChild(docLink);\n",
              "        }\n",
              "      </script>\n",
              "    </div>\n",
              "  </div>\n",
              "  "
            ]
          },
          "metadata": {},
          "execution_count": 18
        }
      ]
    },
    {
      "cell_type": "code",
      "source": [
        "df3.to_excel(\"classlist.xlsx\")"
      ],
      "metadata": {
        "id": "tdw0KN-CZMoy"
      },
      "execution_count": null,
      "outputs": []
    },
    {
      "cell_type": "code",
      "source": [],
      "metadata": {
        "id": "sXLqe9pFZBPS"
      },
      "execution_count": null,
      "outputs": []
    },
    {
      "cell_type": "code",
      "source": [
        "from google.colab import files\n",
        "uploaded = files.upload()"
      ],
      "metadata": {
        "colab": {
          "base_uri": "https://localhost:8080/",
          "height": 73
        },
        "outputId": "63789bb2-2f1c-425d-ef6e-45e984339950",
        "id": "D_ScOzsQbZ-h"
      },
      "execution_count": null,
      "outputs": [
        {
          "output_type": "display_data",
          "data": {
            "text/plain": [
              "<IPython.core.display.HTML object>"
            ],
            "text/html": [
              "\n",
              "     <input type=\"file\" id=\"files-a2f7d62e-a04d-41bb-8f0b-f6ddf7ca8149\" name=\"files[]\" multiple disabled\n",
              "        style=\"border:none\" />\n",
              "     <output id=\"result-a2f7d62e-a04d-41bb-8f0b-f6ddf7ca8149\">\n",
              "      Upload widget is only available when the cell has been executed in the\n",
              "      current browser session. Please rerun this cell to enable.\n",
              "      </output>\n",
              "      <script>// Copyright 2017 Google LLC\n",
              "//\n",
              "// Licensed under the Apache License, Version 2.0 (the \"License\");\n",
              "// you may not use this file except in compliance with the License.\n",
              "// You may obtain a copy of the License at\n",
              "//\n",
              "//      http://www.apache.org/licenses/LICENSE-2.0\n",
              "//\n",
              "// Unless required by applicable law or agreed to in writing, software\n",
              "// distributed under the License is distributed on an \"AS IS\" BASIS,\n",
              "// WITHOUT WARRANTIES OR CONDITIONS OF ANY KIND, either express or implied.\n",
              "// See the License for the specific language governing permissions and\n",
              "// limitations under the License.\n",
              "\n",
              "/**\n",
              " * @fileoverview Helpers for google.colab Python module.\n",
              " */\n",
              "(function(scope) {\n",
              "function span(text, styleAttributes = {}) {\n",
              "  const element = document.createElement('span');\n",
              "  element.textContent = text;\n",
              "  for (const key of Object.keys(styleAttributes)) {\n",
              "    element.style[key] = styleAttributes[key];\n",
              "  }\n",
              "  return element;\n",
              "}\n",
              "\n",
              "// Max number of bytes which will be uploaded at a time.\n",
              "const MAX_PAYLOAD_SIZE = 100 * 1024;\n",
              "\n",
              "function _uploadFiles(inputId, outputId) {\n",
              "  const steps = uploadFilesStep(inputId, outputId);\n",
              "  const outputElement = document.getElementById(outputId);\n",
              "  // Cache steps on the outputElement to make it available for the next call\n",
              "  // to uploadFilesContinue from Python.\n",
              "  outputElement.steps = steps;\n",
              "\n",
              "  return _uploadFilesContinue(outputId);\n",
              "}\n",
              "\n",
              "// This is roughly an async generator (not supported in the browser yet),\n",
              "// where there are multiple asynchronous steps and the Python side is going\n",
              "// to poll for completion of each step.\n",
              "// This uses a Promise to block the python side on completion of each step,\n",
              "// then passes the result of the previous step as the input to the next step.\n",
              "function _uploadFilesContinue(outputId) {\n",
              "  const outputElement = document.getElementById(outputId);\n",
              "  const steps = outputElement.steps;\n",
              "\n",
              "  const next = steps.next(outputElement.lastPromiseValue);\n",
              "  return Promise.resolve(next.value.promise).then((value) => {\n",
              "    // Cache the last promise value to make it available to the next\n",
              "    // step of the generator.\n",
              "    outputElement.lastPromiseValue = value;\n",
              "    return next.value.response;\n",
              "  });\n",
              "}\n",
              "\n",
              "/**\n",
              " * Generator function which is called between each async step of the upload\n",
              " * process.\n",
              " * @param {string} inputId Element ID of the input file picker element.\n",
              " * @param {string} outputId Element ID of the output display.\n",
              " * @return {!Iterable<!Object>} Iterable of next steps.\n",
              " */\n",
              "function* uploadFilesStep(inputId, outputId) {\n",
              "  const inputElement = document.getElementById(inputId);\n",
              "  inputElement.disabled = false;\n",
              "\n",
              "  const outputElement = document.getElementById(outputId);\n",
              "  outputElement.innerHTML = '';\n",
              "\n",
              "  const pickedPromise = new Promise((resolve) => {\n",
              "    inputElement.addEventListener('change', (e) => {\n",
              "      resolve(e.target.files);\n",
              "    });\n",
              "  });\n",
              "\n",
              "  const cancel = document.createElement('button');\n",
              "  inputElement.parentElement.appendChild(cancel);\n",
              "  cancel.textContent = 'Cancel upload';\n",
              "  const cancelPromise = new Promise((resolve) => {\n",
              "    cancel.onclick = () => {\n",
              "      resolve(null);\n",
              "    };\n",
              "  });\n",
              "\n",
              "  // Wait for the user to pick the files.\n",
              "  const files = yield {\n",
              "    promise: Promise.race([pickedPromise, cancelPromise]),\n",
              "    response: {\n",
              "      action: 'starting',\n",
              "    }\n",
              "  };\n",
              "\n",
              "  cancel.remove();\n",
              "\n",
              "  // Disable the input element since further picks are not allowed.\n",
              "  inputElement.disabled = true;\n",
              "\n",
              "  if (!files) {\n",
              "    return {\n",
              "      response: {\n",
              "        action: 'complete',\n",
              "      }\n",
              "    };\n",
              "  }\n",
              "\n",
              "  for (const file of files) {\n",
              "    const li = document.createElement('li');\n",
              "    li.append(span(file.name, {fontWeight: 'bold'}));\n",
              "    li.append(span(\n",
              "        `(${file.type || 'n/a'}) - ${file.size} bytes, ` +\n",
              "        `last modified: ${\n",
              "            file.lastModifiedDate ? file.lastModifiedDate.toLocaleDateString() :\n",
              "                                    'n/a'} - `));\n",
              "    const percent = span('0% done');\n",
              "    li.appendChild(percent);\n",
              "\n",
              "    outputElement.appendChild(li);\n",
              "\n",
              "    const fileDataPromise = new Promise((resolve) => {\n",
              "      const reader = new FileReader();\n",
              "      reader.onload = (e) => {\n",
              "        resolve(e.target.result);\n",
              "      };\n",
              "      reader.readAsArrayBuffer(file);\n",
              "    });\n",
              "    // Wait for the data to be ready.\n",
              "    let fileData = yield {\n",
              "      promise: fileDataPromise,\n",
              "      response: {\n",
              "        action: 'continue',\n",
              "      }\n",
              "    };\n",
              "\n",
              "    // Use a chunked sending to avoid message size limits. See b/62115660.\n",
              "    let position = 0;\n",
              "    do {\n",
              "      const length = Math.min(fileData.byteLength - position, MAX_PAYLOAD_SIZE);\n",
              "      const chunk = new Uint8Array(fileData, position, length);\n",
              "      position += length;\n",
              "\n",
              "      const base64 = btoa(String.fromCharCode.apply(null, chunk));\n",
              "      yield {\n",
              "        response: {\n",
              "          action: 'append',\n",
              "          file: file.name,\n",
              "          data: base64,\n",
              "        },\n",
              "      };\n",
              "\n",
              "      let percentDone = fileData.byteLength === 0 ?\n",
              "          100 :\n",
              "          Math.round((position / fileData.byteLength) * 100);\n",
              "      percent.textContent = `${percentDone}% done`;\n",
              "\n",
              "    } while (position < fileData.byteLength);\n",
              "  }\n",
              "\n",
              "  // All done.\n",
              "  yield {\n",
              "    response: {\n",
              "      action: 'complete',\n",
              "    }\n",
              "  };\n",
              "}\n",
              "\n",
              "scope.google = scope.google || {};\n",
              "scope.google.colab = scope.google.colab || {};\n",
              "scope.google.colab._files = {\n",
              "  _uploadFiles,\n",
              "  _uploadFilesContinue,\n",
              "};\n",
              "})(self);\n",
              "</script> "
            ]
          },
          "metadata": {}
        },
        {
          "output_type": "stream",
          "name": "stdout",
          "text": [
            "Saving classliststore2.xlsx to classliststore2.xlsx\n"
          ]
        }
      ]
    },
    {
      "cell_type": "code",
      "source": [
        "df5 = pd.read_excel(\"classliststore2.xlsx\")\n",
        "df5.head()"
      ],
      "metadata": {
        "colab": {
          "base_uri": "https://localhost:8080/",
          "height": 206
        },
        "id": "qbQAbHyUbrqo",
        "outputId": "ab8a4381-938b-4242-f048-db3588dfbda7"
      },
      "execution_count": null,
      "outputs": [
        {
          "output_type": "execute_result",
          "data": {
            "text/plain": [
              "                  Class Description\n",
              "0            01-200 - FASHION JEANS\n",
              "1  63-720 - 3/4 L/S PULLOVER HVY WT\n",
              "2            51-200 - FASHION JEANS\n",
              "3                 12-120 - SS POLOS\n",
              "4            51-200 - FASHION JEANS"
            ],
            "text/html": [
              "\n",
              "  <div id=\"df-8ab0edfd-670a-4c9b-9312-3bf5a681ad22\">\n",
              "    <div class=\"colab-df-container\">\n",
              "      <div>\n",
              "<style scoped>\n",
              "    .dataframe tbody tr th:only-of-type {\n",
              "        vertical-align: middle;\n",
              "    }\n",
              "\n",
              "    .dataframe tbody tr th {\n",
              "        vertical-align: top;\n",
              "    }\n",
              "\n",
              "    .dataframe thead th {\n",
              "        text-align: right;\n",
              "    }\n",
              "</style>\n",
              "<table border=\"1\" class=\"dataframe\">\n",
              "  <thead>\n",
              "    <tr style=\"text-align: right;\">\n",
              "      <th></th>\n",
              "      <th>Class Description</th>\n",
              "    </tr>\n",
              "  </thead>\n",
              "  <tbody>\n",
              "    <tr>\n",
              "      <th>0</th>\n",
              "      <td>01-200 - FASHION JEANS</td>\n",
              "    </tr>\n",
              "    <tr>\n",
              "      <th>1</th>\n",
              "      <td>63-720 - 3/4 L/S PULLOVER HVY WT</td>\n",
              "    </tr>\n",
              "    <tr>\n",
              "      <th>2</th>\n",
              "      <td>51-200 - FASHION JEANS</td>\n",
              "    </tr>\n",
              "    <tr>\n",
              "      <th>3</th>\n",
              "      <td>12-120 - SS POLOS</td>\n",
              "    </tr>\n",
              "    <tr>\n",
              "      <th>4</th>\n",
              "      <td>51-200 - FASHION JEANS</td>\n",
              "    </tr>\n",
              "  </tbody>\n",
              "</table>\n",
              "</div>\n",
              "      <button class=\"colab-df-convert\" onclick=\"convertToInteractive('df-8ab0edfd-670a-4c9b-9312-3bf5a681ad22')\"\n",
              "              title=\"Convert this dataframe to an interactive table.\"\n",
              "              style=\"display:none;\">\n",
              "        \n",
              "  <svg xmlns=\"http://www.w3.org/2000/svg\" height=\"24px\"viewBox=\"0 0 24 24\"\n",
              "       width=\"24px\">\n",
              "    <path d=\"M0 0h24v24H0V0z\" fill=\"none\"/>\n",
              "    <path d=\"M18.56 5.44l.94 2.06.94-2.06 2.06-.94-2.06-.94-.94-2.06-.94 2.06-2.06.94zm-11 1L8.5 8.5l.94-2.06 2.06-.94-2.06-.94L8.5 2.5l-.94 2.06-2.06.94zm10 10l.94 2.06.94-2.06 2.06-.94-2.06-.94-.94-2.06-.94 2.06-2.06.94z\"/><path d=\"M17.41 7.96l-1.37-1.37c-.4-.4-.92-.59-1.43-.59-.52 0-1.04.2-1.43.59L10.3 9.45l-7.72 7.72c-.78.78-.78 2.05 0 2.83L4 21.41c.39.39.9.59 1.41.59.51 0 1.02-.2 1.41-.59l7.78-7.78 2.81-2.81c.8-.78.8-2.07 0-2.86zM5.41 20L4 18.59l7.72-7.72 1.47 1.35L5.41 20z\"/>\n",
              "  </svg>\n",
              "      </button>\n",
              "      \n",
              "  <style>\n",
              "    .colab-df-container {\n",
              "      display:flex;\n",
              "      flex-wrap:wrap;\n",
              "      gap: 12px;\n",
              "    }\n",
              "\n",
              "    .colab-df-convert {\n",
              "      background-color: #E8F0FE;\n",
              "      border: none;\n",
              "      border-radius: 50%;\n",
              "      cursor: pointer;\n",
              "      display: none;\n",
              "      fill: #1967D2;\n",
              "      height: 32px;\n",
              "      padding: 0 0 0 0;\n",
              "      width: 32px;\n",
              "    }\n",
              "\n",
              "    .colab-df-convert:hover {\n",
              "      background-color: #E2EBFA;\n",
              "      box-shadow: 0px 1px 2px rgba(60, 64, 67, 0.3), 0px 1px 3px 1px rgba(60, 64, 67, 0.15);\n",
              "      fill: #174EA6;\n",
              "    }\n",
              "\n",
              "    [theme=dark] .colab-df-convert {\n",
              "      background-color: #3B4455;\n",
              "      fill: #D2E3FC;\n",
              "    }\n",
              "\n",
              "    [theme=dark] .colab-df-convert:hover {\n",
              "      background-color: #434B5C;\n",
              "      box-shadow: 0px 1px 3px 1px rgba(0, 0, 0, 0.15);\n",
              "      filter: drop-shadow(0px 1px 2px rgba(0, 0, 0, 0.3));\n",
              "      fill: #FFFFFF;\n",
              "    }\n",
              "  </style>\n",
              "\n",
              "      <script>\n",
              "        const buttonEl =\n",
              "          document.querySelector('#df-8ab0edfd-670a-4c9b-9312-3bf5a681ad22 button.colab-df-convert');\n",
              "        buttonEl.style.display =\n",
              "          google.colab.kernel.accessAllowed ? 'block' : 'none';\n",
              "\n",
              "        async function convertToInteractive(key) {\n",
              "          const element = document.querySelector('#df-8ab0edfd-670a-4c9b-9312-3bf5a681ad22');\n",
              "          const dataTable =\n",
              "            await google.colab.kernel.invokeFunction('convertToInteractive',\n",
              "                                                     [key], {});\n",
              "          if (!dataTable) return;\n",
              "\n",
              "          const docLinkHtml = 'Like what you see? Visit the ' +\n",
              "            '<a target=\"_blank\" href=https://colab.research.google.com/notebooks/data_table.ipynb>data table notebook</a>'\n",
              "            + ' to learn more about interactive tables.';\n",
              "          element.innerHTML = '';\n",
              "          dataTable['output_type'] = 'display_data';\n",
              "          await google.colab.output.renderOutput(dataTable, element);\n",
              "          const docLink = document.createElement('div');\n",
              "          docLink.innerHTML = docLinkHtml;\n",
              "          element.appendChild(docLink);\n",
              "        }\n",
              "      </script>\n",
              "    </div>\n",
              "  </div>\n",
              "  "
            ]
          },
          "metadata": {},
          "execution_count": 7
        }
      ]
    },
    {
      "cell_type": "code",
      "source": [
        "df6 = df5['Class Description'].apply(lambda t: t.split(','))"
      ],
      "metadata": {
        "id": "99SP3sjFbxeu"
      },
      "execution_count": null,
      "outputs": []
    },
    {
      "cell_type": "code",
      "source": [
        "df6.head()"
      ],
      "metadata": {
        "colab": {
          "base_uri": "https://localhost:8080/"
        },
        "id": "4XeusmMscB3v",
        "outputId": "a63a7636-7dcd-4ca4-d994-1dbedf107bec"
      },
      "execution_count": null,
      "outputs": [
        {
          "output_type": "execute_result",
          "data": {
            "text/plain": [
              "0              [01-200 - FASHION JEANS]\n",
              "1    [63-720 - 3/4 L/S PULLOVER HVY WT]\n",
              "2              [51-200 - FASHION JEANS]\n",
              "3                   [12-120 - SS POLOS]\n",
              "4              [51-200 - FASHION JEANS]\n",
              "Name: Class Description, dtype: object"
            ]
          },
          "metadata": {},
          "execution_count": 9
        }
      ]
    },
    {
      "cell_type": "code",
      "source": [],
      "metadata": {
        "id": "Oe-6yYmBdvkC"
      },
      "execution_count": null,
      "outputs": []
    },
    {
      "cell_type": "code",
      "source": [
        "print(df6[:20])"
      ],
      "metadata": {
        "colab": {
          "base_uri": "https://localhost:8080/"
        },
        "outputId": "6f615ea2-c4bd-4f7f-ef9b-de09f742f90e",
        "id": "npNx5p-ueLEU"
      },
      "execution_count": null,
      "outputs": [
        {
          "output_type": "stream",
          "name": "stdout",
          "text": [
            "0                              [01-200 - FASHION JEANS]\n",
            "1                    [63-720 - 3/4 L/S PULLOVER HVY WT]\n",
            "2                              [51-200 - FASHION JEANS]\n",
            "3                                   [12-120 - SS POLOS]\n",
            "4                              [51-200 - FASHION JEANS]\n",
            "5                              [51-200 - FASHION JEANS]\n",
            "6                                  [41-800 - HATS/CAPS]\n",
            "7                              [51-200 - FASHION JEANS]\n",
            "8                          [62-620 - L/S FASHION KNITS]\n",
            "9                              [51-200 - FASHION JEANS]\n",
            "10    [61-700 - 3/4 L/S SYNTHETIC,  62-620 - L/S FAS...\n",
            "11                                 [62-178 - BRALETTES]\n",
            "12                               [93-700 - EVA CASUALS]\n",
            "13                         [62-655 - L/S FASHION SOLID]\n",
            "14                               [93-700 - EVA CASUALS]\n",
            "15                    [86-700 - CASUAL HVWT 3RD LAYERS]\n",
            "16                        [12-650 - LS GRAPHIC FASHION]\n",
            "17                    [12-640 - LS GRAPHIC JERSEY KNIT]\n",
            "18          [12-140 - SS TEES,  51-200 - FASHION JEANS]\n",
            "19                             [51-200 - FASHION JEANS]\n",
            "Name: Class Description, dtype: object\n"
          ]
        }
      ]
    },
    {
      "cell_type": "code",
      "source": [
        "from itertools import permutations"
      ],
      "metadata": {
        "id": "LgMAwCbEtRmR"
      },
      "execution_count": null,
      "outputs": []
    },
    {
      "cell_type": "code",
      "source": [
        "#flattened = [item for df6 in df6 for item in df6]\n",
        "#items = list(set(flattened))"
      ],
      "metadata": {
        "id": "0xnaOZVJulqf"
      },
      "execution_count": null,
      "outputs": []
    },
    {
      "cell_type": "code",
      "source": [
        "#rules = list(permutations(items, 2))\n",
        "#print(rules)"
      ],
      "metadata": {
        "id": "hblzXRacxIbi"
      },
      "execution_count": null,
      "outputs": []
    },
    {
      "cell_type": "code",
      "source": [
        "print(len(rules))"
      ],
      "metadata": {
        "colab": {
          "base_uri": "https://localhost:8080/"
        },
        "id": "iJMAHZ4WxQwy",
        "outputId": "7b082291-02f9-497e-edf9-503c4a4f5dc7"
      },
      "execution_count": null,
      "outputs": [
        {
          "output_type": "stream",
          "name": "stdout",
          "text": [
            "506232\n"
          ]
        }
      ]
    },
    {
      "cell_type": "code",
      "source": [
        "from mlxtend.preprocessing import TransactionEncoder"
      ],
      "metadata": {
        "id": "NDcSzyTPyUN1"
      },
      "execution_count": null,
      "outputs": []
    },
    {
      "cell_type": "code",
      "source": [
        "encoder = TransactionEncoder().fit(df6)"
      ],
      "metadata": {
        "id": "qkQX5MhkxcZa"
      },
      "execution_count": null,
      "outputs": []
    },
    {
      "cell_type": "code",
      "source": [
        "onehot = encoder.transform(df6)"
      ],
      "metadata": {
        "id": "UgZ8ExkkybYI"
      },
      "execution_count": null,
      "outputs": []
    },
    {
      "cell_type": "code",
      "source": [
        "onehot = pd.DataFrame(onehot, columns = encoder.columns_)\n",
        "onehot.head()"
      ],
      "metadata": {
        "colab": {
          "base_uri": "https://localhost:8080/",
          "height": 352
        },
        "id": "TkmKGy6lyhaO",
        "outputId": "dd79842c-7f40-43e6-87ae-0fcacb740be7"
      },
      "execution_count": null,
      "outputs": [
        {
          "output_type": "execute_result",
          "data": {
            "text/plain": [
              "    01-200 - FASHION JEANS   06-100 - COTTON   06-200 - KNIT JOGGERS  \\\n",
              "0                    False             False                   False   \n",
              "1                    False             False                   False   \n",
              "2                    False             False                   False   \n",
              "3                    False             False                   False   \n",
              "4                    False             False                   False   \n",
              "\n",
              "    06-210 - TWILL JOGGERS   06-220 - NYLON JOGGERS  \\\n",
              "0                    False                    False   \n",
              "1                    False                    False   \n",
              "2                    False                    False   \n",
              "3                    False                    False   \n",
              "4                    False                    False   \n",
              "\n",
              "    06-300 - GUYS ATHLETIC PANTS   06-310 - LOUNGE PANTS  \\\n",
              "0                          False                   False   \n",
              "1                          False                   False   \n",
              "2                          False                   False   \n",
              "3                          False                   False   \n",
              "4                          False                   False   \n",
              "\n",
              "    06-600 - 5 POCKET TWILLS   11-100 - SS WOVEN   11-110 - S/S SOLID  ...  \\\n",
              "0                      False               False                False  ...   \n",
              "1                      False               False                False  ...   \n",
              "2                      False               False                False  ...   \n",
              "3                      False               False                False  ...   \n",
              "4                      False               False                False  ...   \n",
              "\n",
              "   96-600 - SWEATERS/VELOURS  96-615 - SLEEVED CARDIGANS  96-620 - FLEECE  \\\n",
              "0                      False                       False            False   \n",
              "1                      False                       False            False   \n",
              "2                      False                       False            False   \n",
              "3                      False                       False            False   \n",
              "4                      False                       False            False   \n",
              "\n",
              "   96-700 - OUTERWEAR  96-840 - HATS  96-880 - SOCKS/TIGHTS/LEGGINGS  \\\n",
              "0               False          False                           False   \n",
              "1               False          False                           False   \n",
              "2               False          False                           False   \n",
              "3               False          False                           False   \n",
              "4               False          False                           False   \n",
              "\n",
              "   96-900 - BOOTS  96-910 - SLIPPERS  96-920 - CASUAL FOOTWEAR  \\\n",
              "0           False              False                     False   \n",
              "1           False              False                     False   \n",
              "2           False              False                     False   \n",
              "3           False              False                     False   \n",
              "4           False              False                     False   \n",
              "\n",
              "   96-950 - SANDALS  \n",
              "0             False  \n",
              "1             False  \n",
              "2             False  \n",
              "3             False  \n",
              "4             False  \n",
              "\n",
              "[5 rows x 712 columns]"
            ],
            "text/html": [
              "\n",
              "  <div id=\"df-0d418a5c-8db2-4403-bbbc-87776ff8236c\">\n",
              "    <div class=\"colab-df-container\">\n",
              "      <div>\n",
              "<style scoped>\n",
              "    .dataframe tbody tr th:only-of-type {\n",
              "        vertical-align: middle;\n",
              "    }\n",
              "\n",
              "    .dataframe tbody tr th {\n",
              "        vertical-align: top;\n",
              "    }\n",
              "\n",
              "    .dataframe thead th {\n",
              "        text-align: right;\n",
              "    }\n",
              "</style>\n",
              "<table border=\"1\" class=\"dataframe\">\n",
              "  <thead>\n",
              "    <tr style=\"text-align: right;\">\n",
              "      <th></th>\n",
              "      <th>01-200 - FASHION JEANS</th>\n",
              "      <th>06-100 - COTTON</th>\n",
              "      <th>06-200 - KNIT JOGGERS</th>\n",
              "      <th>06-210 - TWILL JOGGERS</th>\n",
              "      <th>06-220 - NYLON JOGGERS</th>\n",
              "      <th>06-300 - GUYS ATHLETIC PANTS</th>\n",
              "      <th>06-310 - LOUNGE PANTS</th>\n",
              "      <th>06-600 - 5 POCKET TWILLS</th>\n",
              "      <th>11-100 - SS WOVEN</th>\n",
              "      <th>11-110 - S/S SOLID</th>\n",
              "      <th>...</th>\n",
              "      <th>96-600 - SWEATERS/VELOURS</th>\n",
              "      <th>96-615 - SLEEVED CARDIGANS</th>\n",
              "      <th>96-620 - FLEECE</th>\n",
              "      <th>96-700 - OUTERWEAR</th>\n",
              "      <th>96-840 - HATS</th>\n",
              "      <th>96-880 - SOCKS/TIGHTS/LEGGINGS</th>\n",
              "      <th>96-900 - BOOTS</th>\n",
              "      <th>96-910 - SLIPPERS</th>\n",
              "      <th>96-920 - CASUAL FOOTWEAR</th>\n",
              "      <th>96-950 - SANDALS</th>\n",
              "    </tr>\n",
              "  </thead>\n",
              "  <tbody>\n",
              "    <tr>\n",
              "      <th>0</th>\n",
              "      <td>False</td>\n",
              "      <td>False</td>\n",
              "      <td>False</td>\n",
              "      <td>False</td>\n",
              "      <td>False</td>\n",
              "      <td>False</td>\n",
              "      <td>False</td>\n",
              "      <td>False</td>\n",
              "      <td>False</td>\n",
              "      <td>False</td>\n",
              "      <td>...</td>\n",
              "      <td>False</td>\n",
              "      <td>False</td>\n",
              "      <td>False</td>\n",
              "      <td>False</td>\n",
              "      <td>False</td>\n",
              "      <td>False</td>\n",
              "      <td>False</td>\n",
              "      <td>False</td>\n",
              "      <td>False</td>\n",
              "      <td>False</td>\n",
              "    </tr>\n",
              "    <tr>\n",
              "      <th>1</th>\n",
              "      <td>False</td>\n",
              "      <td>False</td>\n",
              "      <td>False</td>\n",
              "      <td>False</td>\n",
              "      <td>False</td>\n",
              "      <td>False</td>\n",
              "      <td>False</td>\n",
              "      <td>False</td>\n",
              "      <td>False</td>\n",
              "      <td>False</td>\n",
              "      <td>...</td>\n",
              "      <td>False</td>\n",
              "      <td>False</td>\n",
              "      <td>False</td>\n",
              "      <td>False</td>\n",
              "      <td>False</td>\n",
              "      <td>False</td>\n",
              "      <td>False</td>\n",
              "      <td>False</td>\n",
              "      <td>False</td>\n",
              "      <td>False</td>\n",
              "    </tr>\n",
              "    <tr>\n",
              "      <th>2</th>\n",
              "      <td>False</td>\n",
              "      <td>False</td>\n",
              "      <td>False</td>\n",
              "      <td>False</td>\n",
              "      <td>False</td>\n",
              "      <td>False</td>\n",
              "      <td>False</td>\n",
              "      <td>False</td>\n",
              "      <td>False</td>\n",
              "      <td>False</td>\n",
              "      <td>...</td>\n",
              "      <td>False</td>\n",
              "      <td>False</td>\n",
              "      <td>False</td>\n",
              "      <td>False</td>\n",
              "      <td>False</td>\n",
              "      <td>False</td>\n",
              "      <td>False</td>\n",
              "      <td>False</td>\n",
              "      <td>False</td>\n",
              "      <td>False</td>\n",
              "    </tr>\n",
              "    <tr>\n",
              "      <th>3</th>\n",
              "      <td>False</td>\n",
              "      <td>False</td>\n",
              "      <td>False</td>\n",
              "      <td>False</td>\n",
              "      <td>False</td>\n",
              "      <td>False</td>\n",
              "      <td>False</td>\n",
              "      <td>False</td>\n",
              "      <td>False</td>\n",
              "      <td>False</td>\n",
              "      <td>...</td>\n",
              "      <td>False</td>\n",
              "      <td>False</td>\n",
              "      <td>False</td>\n",
              "      <td>False</td>\n",
              "      <td>False</td>\n",
              "      <td>False</td>\n",
              "      <td>False</td>\n",
              "      <td>False</td>\n",
              "      <td>False</td>\n",
              "      <td>False</td>\n",
              "    </tr>\n",
              "    <tr>\n",
              "      <th>4</th>\n",
              "      <td>False</td>\n",
              "      <td>False</td>\n",
              "      <td>False</td>\n",
              "      <td>False</td>\n",
              "      <td>False</td>\n",
              "      <td>False</td>\n",
              "      <td>False</td>\n",
              "      <td>False</td>\n",
              "      <td>False</td>\n",
              "      <td>False</td>\n",
              "      <td>...</td>\n",
              "      <td>False</td>\n",
              "      <td>False</td>\n",
              "      <td>False</td>\n",
              "      <td>False</td>\n",
              "      <td>False</td>\n",
              "      <td>False</td>\n",
              "      <td>False</td>\n",
              "      <td>False</td>\n",
              "      <td>False</td>\n",
              "      <td>False</td>\n",
              "    </tr>\n",
              "  </tbody>\n",
              "</table>\n",
              "<p>5 rows × 712 columns</p>\n",
              "</div>\n",
              "      <button class=\"colab-df-convert\" onclick=\"convertToInteractive('df-0d418a5c-8db2-4403-bbbc-87776ff8236c')\"\n",
              "              title=\"Convert this dataframe to an interactive table.\"\n",
              "              style=\"display:none;\">\n",
              "        \n",
              "  <svg xmlns=\"http://www.w3.org/2000/svg\" height=\"24px\"viewBox=\"0 0 24 24\"\n",
              "       width=\"24px\">\n",
              "    <path d=\"M0 0h24v24H0V0z\" fill=\"none\"/>\n",
              "    <path d=\"M18.56 5.44l.94 2.06.94-2.06 2.06-.94-2.06-.94-.94-2.06-.94 2.06-2.06.94zm-11 1L8.5 8.5l.94-2.06 2.06-.94-2.06-.94L8.5 2.5l-.94 2.06-2.06.94zm10 10l.94 2.06.94-2.06 2.06-.94-2.06-.94-.94-2.06-.94 2.06-2.06.94z\"/><path d=\"M17.41 7.96l-1.37-1.37c-.4-.4-.92-.59-1.43-.59-.52 0-1.04.2-1.43.59L10.3 9.45l-7.72 7.72c-.78.78-.78 2.05 0 2.83L4 21.41c.39.39.9.59 1.41.59.51 0 1.02-.2 1.41-.59l7.78-7.78 2.81-2.81c.8-.78.8-2.07 0-2.86zM5.41 20L4 18.59l7.72-7.72 1.47 1.35L5.41 20z\"/>\n",
              "  </svg>\n",
              "      </button>\n",
              "      \n",
              "  <style>\n",
              "    .colab-df-container {\n",
              "      display:flex;\n",
              "      flex-wrap:wrap;\n",
              "      gap: 12px;\n",
              "    }\n",
              "\n",
              "    .colab-df-convert {\n",
              "      background-color: #E8F0FE;\n",
              "      border: none;\n",
              "      border-radius: 50%;\n",
              "      cursor: pointer;\n",
              "      display: none;\n",
              "      fill: #1967D2;\n",
              "      height: 32px;\n",
              "      padding: 0 0 0 0;\n",
              "      width: 32px;\n",
              "    }\n",
              "\n",
              "    .colab-df-convert:hover {\n",
              "      background-color: #E2EBFA;\n",
              "      box-shadow: 0px 1px 2px rgba(60, 64, 67, 0.3), 0px 1px 3px 1px rgba(60, 64, 67, 0.15);\n",
              "      fill: #174EA6;\n",
              "    }\n",
              "\n",
              "    [theme=dark] .colab-df-convert {\n",
              "      background-color: #3B4455;\n",
              "      fill: #D2E3FC;\n",
              "    }\n",
              "\n",
              "    [theme=dark] .colab-df-convert:hover {\n",
              "      background-color: #434B5C;\n",
              "      box-shadow: 0px 1px 3px 1px rgba(0, 0, 0, 0.15);\n",
              "      filter: drop-shadow(0px 1px 2px rgba(0, 0, 0, 0.3));\n",
              "      fill: #FFFFFF;\n",
              "    }\n",
              "  </style>\n",
              "\n",
              "      <script>\n",
              "        const buttonEl =\n",
              "          document.querySelector('#df-0d418a5c-8db2-4403-bbbc-87776ff8236c button.colab-df-convert');\n",
              "        buttonEl.style.display =\n",
              "          google.colab.kernel.accessAllowed ? 'block' : 'none';\n",
              "\n",
              "        async function convertToInteractive(key) {\n",
              "          const element = document.querySelector('#df-0d418a5c-8db2-4403-bbbc-87776ff8236c');\n",
              "          const dataTable =\n",
              "            await google.colab.kernel.invokeFunction('convertToInteractive',\n",
              "                                                     [key], {});\n",
              "          if (!dataTable) return;\n",
              "\n",
              "          const docLinkHtml = 'Like what you see? Visit the ' +\n",
              "            '<a target=\"_blank\" href=https://colab.research.google.com/notebooks/data_table.ipynb>data table notebook</a>'\n",
              "            + ' to learn more about interactive tables.';\n",
              "          element.innerHTML = '';\n",
              "          dataTable['output_type'] = 'display_data';\n",
              "          await google.colab.output.renderOutput(dataTable, element);\n",
              "          const docLink = document.createElement('div');\n",
              "          docLink.innerHTML = docLinkHtml;\n",
              "          element.appendChild(docLink);\n",
              "        }\n",
              "      </script>\n",
              "    </div>\n",
              "  </div>\n",
              "  "
            ]
          },
          "metadata": {},
          "execution_count": 15
        }
      ]
    },
    {
      "cell_type": "code",
      "source": [
        "print(onehot.mean())"
      ],
      "metadata": {
        "colab": {
          "base_uri": "https://localhost:8080/"
        },
        "id": "R2_9hSpZyvhA",
        "outputId": "69f4897f-071e-4ef3-9db6-205f877f7e8f"
      },
      "execution_count": null,
      "outputs": [
        {
          "output_type": "stream",
          "name": "stdout",
          "text": [
            " 01-200 - FASHION JEANS           0.001262\n",
            " 06-100 - COTTON                  0.000289\n",
            " 06-200 - KNIT JOGGERS            0.000059\n",
            " 06-210 - TWILL JOGGERS           0.000087\n",
            " 06-220 - NYLON JOGGERS           0.000018\n",
            "                                    ...   \n",
            "96-880 - SOCKS/TIGHTS/LEGGINGS    0.000005\n",
            "96-900 - BOOTS                    0.000087\n",
            "96-910 - SLIPPERS                 0.000010\n",
            "96-920 - CASUAL FOOTWEAR          0.000274\n",
            "96-950 - SANDALS                  0.000125\n",
            "Length: 712, dtype: float64\n"
          ]
        }
      ]
    },
    {
      "cell_type": "code",
      "source": [
        "frequent_itemsets = apriori(onehot, min_support = 0.001,\n",
        "                            max_len = 4, use_colnames = True)\n",
        "\n",
        "print(len(frequent_itemsets))"
      ],
      "metadata": {
        "colab": {
          "base_uri": "https://localhost:8080/"
        },
        "id": "ur9cgUZDy3Iw",
        "outputId": "e7da8a95-a0ea-44a2-cf68-48ab7da9edbf"
      },
      "execution_count": null,
      "outputs": [
        {
          "output_type": "stream",
          "name": "stdout",
          "text": [
            "258\n"
          ]
        }
      ]
    },
    {
      "cell_type": "code",
      "source": [
        "print(frequent_itemsets)"
      ],
      "metadata": {
        "colab": {
          "base_uri": "https://localhost:8080/"
        },
        "id": "_6E2rUwE1z6z",
        "outputId": "5442a146-7627-4b27-c761-6ae6a0973dee"
      },
      "execution_count": null,
      "outputs": [
        {
          "output_type": "stream",
          "name": "stdout",
          "text": [
            "      support                                           itemsets\n",
            "0    0.001262                          ( 01-200 - FASHION JEANS)\n",
            "1    0.001407                        ( 06-600 - 5 POCKET TWILLS)\n",
            "2    0.001418                     ( 11-130 - S/S FASHION PRINTS)\n",
            "3    0.001443                               ( 11-600 - LS WOVEN)\n",
            "4    0.001047                        ( 11-610 - LS SOLID WOVENS)\n",
            "..        ...                                                ...\n",
            "253  0.001341   ( 93-650 - FLAT SANDALS, 51-200 - FASHION JEANS)\n",
            "254  0.001190   ( 93-700 - EVA CASUALS, 43-410 - COMFORT CASUAL)\n",
            "255  0.001049  ( 93-700 - EVA CASUALS, 50-523 - PROMO SMALL BAG)\n",
            "256  0.002285    ( 93-700 - EVA CASUALS, 51-200 - FASHION JEANS)\n",
            "257  0.002144    (51-200 - FASHION JEANS,  93-950 - SHORT BOOTS)\n",
            "\n",
            "[258 rows x 2 columns]\n"
          ]
        }
      ]
    },
    {
      "cell_type": "code",
      "source": [
        "rules1 = association_rules(frequent_itemsets,\n",
        "                           metric = \"support\",\n",
        "                           min_threshold = 0.001)"
      ],
      "metadata": {
        "id": "7_FmZnes7OlF"
      },
      "execution_count": null,
      "outputs": []
    },
    {
      "cell_type": "code",
      "source": [
        "print(rules1)"
      ],
      "metadata": {
        "colab": {
          "base_uri": "https://localhost:8080/"
        },
        "id": "t7fKAiCaFGGR",
        "outputId": "786a6d59-2d75-4d90-8418-711fb701a13f"
      },
      "execution_count": null,
      "outputs": [
        {
          "output_type": "stream",
          "name": "stdout",
          "text": [
            "                          antecedents                       consequents  \\\n",
            "0           ( 01-200 - FASHION JEANS)  (01-020 - FASHION JEANS SECONDS)   \n",
            "1    (01-020 - FASHION JEANS SECONDS)         ( 01-200 - FASHION JEANS)   \n",
            "2            (01-200 - FASHION JEANS)       ( 06-600 - 5 POCKET TWILLS)   \n",
            "3         ( 06-600 - 5 POCKET TWILLS)          (01-200 - FASHION JEANS)   \n",
            "4           ( 12-130 - SS BASIC TEES)          (01-200 - FASHION JEANS)   \n",
            "..                                ...                               ...   \n",
            "111        (50-523 - PROMO SMALL BAG)           ( 93-700 - EVA CASUALS)   \n",
            "112           ( 93-700 - EVA CASUALS)          (51-200 - FASHION JEANS)   \n",
            "113          (51-200 - FASHION JEANS)           ( 93-700 - EVA CASUALS)   \n",
            "114          (51-200 - FASHION JEANS)           ( 93-950 - SHORT BOOTS)   \n",
            "115           ( 93-950 - SHORT BOOTS)          (51-200 - FASHION JEANS)   \n",
            "\n",
            "     antecedent support  consequent support   support  confidence        lift  \\\n",
            "0              0.001262            0.006031  0.001256    0.995943  165.126285   \n",
            "1              0.006031            0.001262  0.001256    0.208316  165.126285   \n",
            "2              0.128852            0.001407  0.001126    0.008738    6.208651   \n",
            "3              0.001407            0.128852  0.001126    0.800000    6.208651   \n",
            "4              0.002211            0.128852  0.001054    0.476852    3.700758   \n",
            "..                  ...                 ...       ...         ...         ...   \n",
            "111            0.024540            0.008713  0.001049    0.042753    4.906698   \n",
            "112            0.008713            0.317239  0.002285    0.262261    0.826701   \n",
            "113            0.317239            0.008713  0.002285    0.007203    0.826701   \n",
            "114            0.317239            0.006164  0.002144    0.006760    1.096532   \n",
            "115            0.006164            0.317239  0.002144    0.347862    1.096532   \n",
            "\n",
            "     leverage  conviction  \n",
            "0    0.001249  245.013259  \n",
            "1    0.001249    1.261536  \n",
            "2    0.000945    1.007395  \n",
            "3    0.000945    4.355738  \n",
            "4    0.000769    1.665202  \n",
            "..        ...         ...  \n",
            "111  0.000835    1.035560  \n",
            "112 -0.000479    0.925479  \n",
            "113 -0.000479    0.998479  \n",
            "114  0.000189    1.000599  \n",
            "115  0.000189    1.046959  \n",
            "\n",
            "[116 rows x 9 columns]\n"
          ]
        }
      ]
    },
    {
      "cell_type": "code",
      "source": [
        "pd.reset_option('display.max_rows')"
      ],
      "metadata": {
        "id": "XtykshfDFndS"
      },
      "execution_count": null,
      "outputs": []
    },
    {
      "cell_type": "code",
      "source": [],
      "metadata": {
        "id": "naTKnTP2F0D6"
      },
      "execution_count": null,
      "outputs": []
    },
    {
      "cell_type": "code",
      "source": [
        "rules2 = association_rules(frequent_itemsets,\n",
        "                           metric = \"support\",\n",
        "                           min_threshold = 0.006)"
      ],
      "metadata": {
        "id": "4DyMQdt2F630"
      },
      "execution_count": null,
      "outputs": []
    },
    {
      "cell_type": "code",
      "source": [
        "print(rules2)"
      ],
      "metadata": {
        "colab": {
          "base_uri": "https://localhost:8080/"
        },
        "id": "HUQanO-vF97D",
        "outputId": "6a3a98ae-399e-49b7-d914-2aab7526a957"
      },
      "execution_count": null,
      "outputs": [
        {
          "output_type": "stream",
          "name": "stdout",
          "text": [
            "                  antecedents                 consequents  antecedent support  \\\n",
            "0   ( 51-200 - FASHION JEANS)  (50-523 - PROMO SMALL BAG)            0.021539   \n",
            "1  (50-523 - PROMO SMALL BAG)   ( 51-200 - FASHION JEANS)            0.024540   \n",
            "2    ( 76-440 - DENIM SHORTS)    (51-200 - FASHION JEANS)            0.020456   \n",
            "3    (51-200 - FASHION JEANS)    ( 76-440 - DENIM SHORTS)            0.317239   \n",
            "\n",
            "   consequent support   support  confidence       lift  leverage  conviction  \n",
            "0            0.024540  0.012526    0.581561  23.698343  0.011997    2.331188  \n",
            "1            0.021539  0.012526    0.510428  23.698343  0.011997    1.998604  \n",
            "2            0.317239  0.007211    0.352514   1.111197  0.000722    1.054481  \n",
            "3            0.020456  0.007211    0.022731   1.111197  0.000722    1.002328  \n"
          ]
        }
      ]
    },
    {
      "cell_type": "code",
      "source": [
        "print(len(rules2))"
      ],
      "metadata": {
        "colab": {
          "base_uri": "https://localhost:8080/"
        },
        "id": "zoOK8IXxGKqK",
        "outputId": "c9227865-06f1-4f25-c664-2639ee92cb0a"
      },
      "execution_count": null,
      "outputs": [
        {
          "output_type": "stream",
          "name": "stdout",
          "text": [
            "18\n"
          ]
        }
      ]
    },
    {
      "cell_type": "code",
      "source": [
        "ruledf1 = pd.DataFrame(rules1)"
      ],
      "metadata": {
        "id": "7yWJ18w-Gel0"
      },
      "execution_count": null,
      "outputs": []
    },
    {
      "cell_type": "code",
      "source": [
        "ruledf1.to_excel('rulesdf1.xlsx')"
      ],
      "metadata": {
        "id": "jbzMa6KbIGJw"
      },
      "execution_count": null,
      "outputs": []
    },
    {
      "cell_type": "code",
      "source": [
        "files.download('rulesdf1.xlsx')"
      ],
      "metadata": {
        "colab": {
          "base_uri": "https://localhost:8080/",
          "height": 17
        },
        "id": "rhV0j6aGINxI",
        "outputId": "ed900e6f-8d63-46a8-e7f8-b19bd2ceffe9"
      },
      "execution_count": null,
      "outputs": [
        {
          "output_type": "display_data",
          "data": {
            "text/plain": [
              "<IPython.core.display.Javascript object>"
            ],
            "application/javascript": [
              "\n",
              "    async function download(id, filename, size) {\n",
              "      if (!google.colab.kernel.accessAllowed) {\n",
              "        return;\n",
              "      }\n",
              "      const div = document.createElement('div');\n",
              "      const label = document.createElement('label');\n",
              "      label.textContent = `Downloading \"${filename}\": `;\n",
              "      div.appendChild(label);\n",
              "      const progress = document.createElement('progress');\n",
              "      progress.max = size;\n",
              "      div.appendChild(progress);\n",
              "      document.body.appendChild(div);\n",
              "\n",
              "      const buffers = [];\n",
              "      let downloaded = 0;\n",
              "\n",
              "      const channel = await google.colab.kernel.comms.open(id);\n",
              "      // Send a message to notify the kernel that we're ready.\n",
              "      channel.send({})\n",
              "\n",
              "      for await (const message of channel.messages) {\n",
              "        // Send a message to notify the kernel that we're ready.\n",
              "        channel.send({})\n",
              "        if (message.buffers) {\n",
              "          for (const buffer of message.buffers) {\n",
              "            buffers.push(buffer);\n",
              "            downloaded += buffer.byteLength;\n",
              "            progress.value = downloaded;\n",
              "          }\n",
              "        }\n",
              "      }\n",
              "      const blob = new Blob(buffers, {type: 'application/binary'});\n",
              "      const a = document.createElement('a');\n",
              "      a.href = window.URL.createObjectURL(blob);\n",
              "      a.download = filename;\n",
              "      div.appendChild(a);\n",
              "      a.click();\n",
              "      div.remove();\n",
              "    }\n",
              "  "
            ]
          },
          "metadata": {}
        },
        {
          "output_type": "display_data",
          "data": {
            "text/plain": [
              "<IPython.core.display.Javascript object>"
            ],
            "application/javascript": [
              "download(\"download_a69ec959-fbce-4862-b9c4-db59fb05ab6f\", \"rulesdf1.xlsx\", 15877)"
            ]
          },
          "metadata": {}
        }
      ]
    },
    {
      "cell_type": "code",
      "source": [],
      "metadata": {
        "id": "PvOYHh_6IT33"
      },
      "execution_count": null,
      "outputs": []
    }
  ]
}